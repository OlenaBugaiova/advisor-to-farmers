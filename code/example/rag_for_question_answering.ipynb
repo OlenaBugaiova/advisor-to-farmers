{
  "metadata": {
    "kernelspec": {
      "language": "python",
      "display_name": "Python 3",
      "name": "python3"
    },
    "language_info": {
      "name": "python",
      "version": "3.10.13",
      "mimetype": "text/x-python",
      "codemirror_mode": {
        "name": "ipython",
        "version": 3
      },
      "pygments_lexer": "ipython3",
      "nbconvert_exporter": "python",
      "file_extension": ".py"
    },
    "kaggle": {
      "accelerator": "none",
      "dataSources": [
        {
          "sourceId": 9037685,
          "sourceType": "datasetVersion",
          "datasetId": 5448044
        }
      ],
      "dockerImageVersionId": 30746,
      "isInternetEnabled": true,
      "language": "python",
      "sourceType": "notebook",
      "isGpuEnabled": false
    },
    "colab": {
      "provenance": [],
      "include_colab_link": true
    }
  },
  "nbformat_minor": 0,
  "nbformat": 4,
  "cells": [
    {
      "cell_type": "markdown",
      "metadata": {
        "id": "view-in-github",
        "colab_type": "text"
      },
      "source": [
        "<a href=\"https://colab.research.google.com/github/OlenaBugaiova/advisor-to-farmers/blob/main/code/example/rag_for_question_answering.ipynb\" target=\"_parent\"><img src=\"https://colab.research.google.com/assets/colab-badge.svg\" alt=\"Open In Colab\"/></a>"
      ]
    },
    {
      "cell_type": "markdown",
      "source": [
        "# Task Description\n",
        "\n",
        "<img src=attachment:8f331cdf-28f2-4161-976a-d9fe6a4520bb.png width = \"800\">\n",
        "\n",
        "This notebook provides an example of how ChatGPT can be augumented with related context as AI based advisor in agriculture in norwegian."
      ],
      "metadata": {
        "id": "2Tio9U8-V60u"
      }
    },
    {
      "cell_type": "markdown",
      "source": [
        "# Import Libraries"
      ],
      "metadata": {
        "id": "B3wqnFgzV60y"
      }
    },
    {
      "cell_type": "code",
      "source": [
        "pip install --upgrade pip"
      ],
      "metadata": {
        "execution": {
          "iopub.status.busy": "2025-01-06T19:01:35.767059Z",
          "iopub.execute_input": "2025-01-06T19:01:35.767493Z",
          "iopub.status.idle": "2025-01-06T19:01:41.107954Z",
          "shell.execute_reply.started": "2025-01-06T19:01:35.767464Z",
          "shell.execute_reply": "2025-01-06T19:01:41.106526Z"
        },
        "trusted": true,
        "id": "vkJ8Va7fV60z",
        "outputId": "8fa6f2f9-230f-493b-e074-e28c4c3b2fd0"
      },
      "outputs": [
        {
          "name": "stdout",
          "text": "Requirement already satisfied: pip in /opt/conda/lib/python3.10/site-packages (24.3.1)\nNote: you may need to restart the kernel to use updated packages.\n",
          "output_type": "stream"
        }
      ],
      "execution_count": null
    },
    {
      "cell_type": "code",
      "source": [
        "pip install openai"
      ],
      "metadata": {
        "trusted": true,
        "execution": {
          "iopub.status.busy": "2025-01-06T19:01:41.110744Z",
          "iopub.execute_input": "2025-01-06T19:01:41.111173Z",
          "iopub.status.idle": "2025-01-06T19:01:46.168055Z",
          "shell.execute_reply.started": "2025-01-06T19:01:41.111122Z",
          "shell.execute_reply": "2025-01-06T19:01:46.166513Z"
        },
        "id": "lDFub8rWV601",
        "outputId": "af2f3b98-eca9-4d92-a289-fdc7a802af6d"
      },
      "outputs": [
        {
          "name": "stdout",
          "text": "Requirement already satisfied: openai in /opt/conda/lib/python3.10/site-packages (1.59.3)\nRequirement already satisfied: anyio<5,>=3.5.0 in /opt/conda/lib/python3.10/site-packages (from openai) (4.2.0)\nRequirement already satisfied: distro<2,>=1.7.0 in /opt/conda/lib/python3.10/site-packages (from openai) (1.9.0)\nRequirement already satisfied: httpx<1,>=0.23.0 in /opt/conda/lib/python3.10/site-packages (from openai) (0.27.0)\nRequirement already satisfied: jiter<1,>=0.4.0 in /opt/conda/lib/python3.10/site-packages (from openai) (0.8.2)\nRequirement already satisfied: pydantic<3,>=1.9.0 in /opt/conda/lib/python3.10/site-packages (from openai) (2.5.3)\nRequirement already satisfied: sniffio in /opt/conda/lib/python3.10/site-packages (from openai) (1.3.0)\nRequirement already satisfied: tqdm>4 in /opt/conda/lib/python3.10/site-packages (from openai) (4.66.4)\nRequirement already satisfied: typing-extensions<5,>=4.11 in /opt/conda/lib/python3.10/site-packages (from openai) (4.12.2)\nRequirement already satisfied: idna>=2.8 in /opt/conda/lib/python3.10/site-packages (from anyio<5,>=3.5.0->openai) (3.6)\nRequirement already satisfied: exceptiongroup>=1.0.2 in /opt/conda/lib/python3.10/site-packages (from anyio<5,>=3.5.0->openai) (1.2.0)\nRequirement already satisfied: certifi in /opt/conda/lib/python3.10/site-packages (from httpx<1,>=0.23.0->openai) (2024.7.4)\nRequirement already satisfied: httpcore==1.* in /opt/conda/lib/python3.10/site-packages (from httpx<1,>=0.23.0->openai) (1.0.5)\nRequirement already satisfied: h11<0.15,>=0.13 in /opt/conda/lib/python3.10/site-packages (from httpcore==1.*->httpx<1,>=0.23.0->openai) (0.14.0)\nRequirement already satisfied: annotated-types>=0.4.0 in /opt/conda/lib/python3.10/site-packages (from pydantic<3,>=1.9.0->openai) (0.6.0)\nRequirement already satisfied: pydantic-core==2.14.6 in /opt/conda/lib/python3.10/site-packages (from pydantic<3,>=1.9.0->openai) (2.14.6)\nNote: you may need to restart the kernel to use updated packages.\n",
          "output_type": "stream"
        }
      ],
      "execution_count": null
    },
    {
      "cell_type": "code",
      "source": [
        "import numpy as np\n",
        "import pandas as pd\n",
        "pd.set_option(\"display.max_rows\", None)\n",
        "pd.set_option(\"display.max_columns\", None)\n",
        "pd.set_option('display.max_colwidth', None)\n",
        "\n",
        "import os\n",
        "import json\n",
        "\n",
        "from openai import OpenAI\n",
        "import ast\n",
        "import pdb"
      ],
      "metadata": {
        "trusted": true,
        "execution": {
          "iopub.status.busy": "2025-01-06T19:01:46.170259Z",
          "iopub.execute_input": "2025-01-06T19:01:46.170780Z",
          "iopub.status.idle": "2025-01-06T19:01:46.179050Z",
          "shell.execute_reply.started": "2025-01-06T19:01:46.170730Z",
          "shell.execute_reply": "2025-01-06T19:01:46.177530Z"
        },
        "id": "oW4ycnfPV602"
      },
      "outputs": [],
      "execution_count": null
    },
    {
      "cell_type": "code",
      "source": [
        "RANDOM_STATE = 311"
      ],
      "metadata": {
        "trusted": true,
        "execution": {
          "iopub.status.busy": "2025-01-06T19:01:46.182216Z",
          "iopub.execute_input": "2025-01-06T19:01:46.182673Z",
          "iopub.status.idle": "2025-01-06T19:01:46.200250Z",
          "shell.execute_reply.started": "2025-01-06T19:01:46.182630Z",
          "shell.execute_reply": "2025-01-06T19:01:46.198881Z"
        },
        "id": "7RaNegf3V603"
      },
      "outputs": [],
      "execution_count": null
    },
    {
      "cell_type": "code",
      "source": [
        "from kaggle_secrets import UserSecretsClient\n",
        "user_secrets = UserSecretsClient()\n",
        "api_key = user_secrets.get_secret('OPENAI_API_KEY')"
      ],
      "metadata": {
        "trusted": true,
        "execution": {
          "iopub.status.busy": "2025-01-06T19:01:46.201739Z",
          "iopub.execute_input": "2025-01-06T19:01:46.202132Z",
          "iopub.status.idle": "2025-01-06T19:01:46.376578Z",
          "shell.execute_reply.started": "2025-01-06T19:01:46.202100Z",
          "shell.execute_reply": "2025-01-06T19:01:46.375525Z"
        },
        "id": "6-4ABOGVV603"
      },
      "outputs": [],
      "execution_count": null
    },
    {
      "cell_type": "code",
      "source": [
        "client = OpenAI(\n",
        "    api_key = api_key\n",
        ")"
      ],
      "metadata": {
        "trusted": true,
        "execution": {
          "iopub.status.busy": "2025-01-06T19:01:46.378456Z",
          "iopub.execute_input": "2025-01-06T19:01:46.378850Z",
          "iopub.status.idle": "2025-01-06T19:01:46.401884Z",
          "shell.execute_reply.started": "2025-01-06T19:01:46.378819Z",
          "shell.execute_reply": "2025-01-06T19:01:46.400630Z"
        },
        "id": "Ny_x7S1gV604"
      },
      "outputs": [],
      "execution_count": null
    },
    {
      "cell_type": "markdown",
      "source": [
        "# Load the data"
      ],
      "metadata": {
        "id": "T1aeog-hV605"
      }
    },
    {
      "cell_type": "code",
      "source": [
        "directory_name = '../input/about-agriculture-in-norwegian-language/'\n",
        "combined_file_name = 'text_on_agriculture.json'"
      ],
      "metadata": {
        "trusted": true,
        "execution": {
          "iopub.status.busy": "2025-01-06T19:01:46.403265Z",
          "iopub.execute_input": "2025-01-06T19:01:46.403703Z",
          "iopub.status.idle": "2025-01-06T19:01:46.409484Z",
          "shell.execute_reply.started": "2025-01-06T19:01:46.403664Z",
          "shell.execute_reply": "2025-01-06T19:01:46.407944Z"
        },
        "id": "WwZiAUAlV605"
      },
      "outputs": [],
      "execution_count": null
    },
    {
      "cell_type": "code",
      "source": [
        "with open(directory_name + combined_file_name, 'r') as file_name:\n",
        "    text_combined = json.load(file_name)"
      ],
      "metadata": {
        "trusted": true,
        "execution": {
          "iopub.status.busy": "2025-01-06T19:01:46.410826Z",
          "iopub.execute_input": "2025-01-06T19:01:46.411143Z",
          "iopub.status.idle": "2025-01-06T19:01:46.481711Z",
          "shell.execute_reply.started": "2025-01-06T19:01:46.411117Z",
          "shell.execute_reply": "2025-01-06T19:01:46.480241Z"
        },
        "id": "WFTu_EujV606"
      },
      "outputs": [],
      "execution_count": null
    },
    {
      "cell_type": "code",
      "source": [
        "type(text_combined)"
      ],
      "metadata": {
        "trusted": true,
        "execution": {
          "iopub.status.busy": "2025-01-06T19:01:46.483266Z",
          "iopub.execute_input": "2025-01-06T19:01:46.483678Z",
          "iopub.status.idle": "2025-01-06T19:01:46.491877Z",
          "shell.execute_reply.started": "2025-01-06T19:01:46.483638Z",
          "shell.execute_reply": "2025-01-06T19:01:46.490620Z"
        },
        "id": "pbpg17_fV606",
        "outputId": "c057ee5d-02cf-4baf-da35-3ecf45b8967a"
      },
      "outputs": [
        {
          "execution_count": 141,
          "output_type": "execute_result",
          "data": {
            "text/plain": "dict"
          },
          "metadata": {}
        }
      ],
      "execution_count": null
    },
    {
      "cell_type": "markdown",
      "source": [
        "# Simple promt"
      ],
      "metadata": {
        "id": "_iimPOd7V607"
      }
    },
    {
      "cell_type": "code",
      "source": [
        "# question = 'Er ferske, rå grønnsaker sunnere og mer næringsrike enn frosne grønnsaker?'\n",
        "question = 'Bør bøndene vurdere bioenergi?'\n",
        "question"
      ],
      "metadata": {
        "trusted": true,
        "execution": {
          "iopub.status.busy": "2025-01-06T19:01:46.495436Z",
          "iopub.execute_input": "2025-01-06T19:01:46.495792Z",
          "iopub.status.idle": "2025-01-06T19:01:46.508665Z",
          "shell.execute_reply.started": "2025-01-06T19:01:46.495763Z",
          "shell.execute_reply": "2025-01-06T19:01:46.507423Z"
        },
        "id": "2Qa3gT8JV607",
        "outputId": "56689a35-7846-45f4-b4f5-f56c6b36a5f1"
      },
      "outputs": [
        {
          "execution_count": 142,
          "output_type": "execute_result",
          "data": {
            "text/plain": "'Bør bøndene vurdere bioenergi?'"
          },
          "metadata": {}
        }
      ],
      "execution_count": null
    },
    {
      "cell_type": "code",
      "source": [
        "system_message = 'Du er en hjelpsom assistent som gir råd innen landbruk og svarer på spørsmål fra bønder på norsk'\n",
        "system_message"
      ],
      "metadata": {
        "trusted": true,
        "execution": {
          "iopub.status.busy": "2025-01-06T19:01:46.510377Z",
          "iopub.execute_input": "2025-01-06T19:01:46.510810Z",
          "iopub.status.idle": "2025-01-06T19:01:46.528711Z",
          "shell.execute_reply.started": "2025-01-06T19:01:46.510772Z",
          "shell.execute_reply": "2025-01-06T19:01:46.527340Z"
        },
        "id": "86N4cpNSV609",
        "outputId": "3f951aa4-1315-4cd6-ed95-8b3451f1b13f"
      },
      "outputs": [
        {
          "execution_count": 143,
          "output_type": "execute_result",
          "data": {
            "text/plain": "'Du er en hjelpsom assistent som gir råd innen landbruk og svarer på spørsmål fra bønder på norsk'"
          },
          "metadata": {}
        }
      ],
      "execution_count": null
    },
    {
      "cell_type": "code",
      "source": [
        "response = client.chat.completions.create(\n",
        "    model = 'gpt-4o-mini',\n",
        "    messages = [\n",
        "        {\n",
        "            'role': 'system',\n",
        "            'content': system_message\n",
        "        },\n",
        "        {'role': 'user', 'content': question}\n",
        "    ]\n",
        ")\n",
        "response"
      ],
      "metadata": {
        "trusted": true,
        "execution": {
          "iopub.status.busy": "2025-01-06T19:01:46.530152Z",
          "iopub.execute_input": "2025-01-06T19:01:46.530529Z",
          "iopub.status.idle": "2025-01-06T19:01:51.885860Z",
          "shell.execute_reply.started": "2025-01-06T19:01:46.530500Z",
          "shell.execute_reply": "2025-01-06T19:01:51.884428Z"
        },
        "id": "XEdZM3nkV60-",
        "outputId": "37baec42-f9c6-43ca-f869-bfc5324c1d4f"
      },
      "outputs": [
        {
          "execution_count": 144,
          "output_type": "execute_result",
          "data": {
            "text/plain": "ChatCompletion(id='chatcmpl-AmmeAREfp7KM6ORiY9hSXDtV6Jro1', choices=[Choice(finish_reason='stop', index=0, logprobs=None, message=ChatCompletionMessage(content='Ja, bønder bør absolutt vurdere bioenergi som et alternativ. Her er noen grunner til hvorfor det kan være fordelaktig:\\n\\n1. **Bærekraftig energi**: Bioenergi er en fornybar energikilde som kan bidra til å redusere avhengigheten av fossile brensler. Dette kan være en viktig del av en bærekraftig landbrukspraksis.\\n\\n2. **Avfallshåndtering**: Mange landbrukssubsidiar kan produsere biomasseavfall, for eksempel fra avlinger eller husdyrgjødsel. Disse materialene kan brukes til å produsere bioenergi, som biogass eller biodiesel, noe som kan redusere avfall og kostnader knyttet til avfallshåndtering.\\n\\n3. **Ekstra inntektskilde**: Ved å produsere bioenergi kan bønder diversifisere inntektene sine. De kan selge energi tilbake til nettet eller bruke den til eget forbruk, noe som kan redusere driftskostnader.\\n\\n4. **Klima- og miljøfordeler**: Bruk av bioenergi kan bidra til å redusere klimagassutslippene fra landbruket. Dette kan være en viktig faktor i møte med klimaendringer og i arbeidet med å oppfylle klimaavtaler.\\n\\n5. **Støtteordninger**: Mange land i Europa og andre steder tilbyr økonomiske insentiver eller støtteordninger for bønder som investerer i fornybare energikilder, inkludert bioenergi.\\n\\nDet er viktig for bønder å vurdere lokale forhold, inkludert types avlinger, tilgjengelig teknologi og markedet for bioenergi før de tar avgjørelsen om å investere i bioenergi.', refusal=None, role='assistant', audio=None, function_call=None, tool_calls=None))], created=1736190106, model='gpt-4o-mini-2024-07-18', object='chat.completion', service_tier=None, system_fingerprint='fp_0aa8d3e20b', usage=CompletionUsage(completion_tokens=378, prompt_tokens=47, total_tokens=425, completion_tokens_details=CompletionTokensDetails(accepted_prediction_tokens=0, audio_tokens=0, reasoning_tokens=0, rejected_prediction_tokens=0), prompt_tokens_details=PromptTokensDetails(audio_tokens=0, cached_tokens=0)))"
          },
          "metadata": {}
        }
      ],
      "execution_count": null
    },
    {
      "cell_type": "code",
      "source": [
        "response.choices[0].message.content"
      ],
      "metadata": {
        "trusted": true,
        "execution": {
          "iopub.status.busy": "2025-01-06T19:01:51.887498Z",
          "iopub.execute_input": "2025-01-06T19:01:51.887882Z",
          "iopub.status.idle": "2025-01-06T19:01:51.895289Z",
          "shell.execute_reply.started": "2025-01-06T19:01:51.887852Z",
          "shell.execute_reply": "2025-01-06T19:01:51.894140Z"
        },
        "id": "jlKjWVmHV60-",
        "outputId": "e6c356bb-14df-45d9-9da1-67951886fefd"
      },
      "outputs": [
        {
          "execution_count": 145,
          "output_type": "execute_result",
          "data": {
            "text/plain": "'Ja, bønder bør absolutt vurdere bioenergi som et alternativ. Her er noen grunner til hvorfor det kan være fordelaktig:\\n\\n1. **Bærekraftig energi**: Bioenergi er en fornybar energikilde som kan bidra til å redusere avhengigheten av fossile brensler. Dette kan være en viktig del av en bærekraftig landbrukspraksis.\\n\\n2. **Avfallshåndtering**: Mange landbrukssubsidiar kan produsere biomasseavfall, for eksempel fra avlinger eller husdyrgjødsel. Disse materialene kan brukes til å produsere bioenergi, som biogass eller biodiesel, noe som kan redusere avfall og kostnader knyttet til avfallshåndtering.\\n\\n3. **Ekstra inntektskilde**: Ved å produsere bioenergi kan bønder diversifisere inntektene sine. De kan selge energi tilbake til nettet eller bruke den til eget forbruk, noe som kan redusere driftskostnader.\\n\\n4. **Klima- og miljøfordeler**: Bruk av bioenergi kan bidra til å redusere klimagassutslippene fra landbruket. Dette kan være en viktig faktor i møte med klimaendringer og i arbeidet med å oppfylle klimaavtaler.\\n\\n5. **Støtteordninger**: Mange land i Europa og andre steder tilbyr økonomiske insentiver eller støtteordninger for bønder som investerer i fornybare energikilder, inkludert bioenergi.\\n\\nDet er viktig for bønder å vurdere lokale forhold, inkludert types avlinger, tilgjengelig teknologi og markedet for bioenergi før de tar avgjørelsen om å investere i bioenergi.'"
          },
          "metadata": {}
        }
      ],
      "execution_count": null
    },
    {
      "cell_type": "markdown",
      "source": [
        "# Text Embedding"
      ],
      "metadata": {
        "id": "pkBcaUAPV60-"
      }
    },
    {
      "cell_type": "code",
      "source": [
        "text_combined_df = pd.DataFrame(text_combined.items(), columns = ['title', 'text'])\n",
        "text_combined_df.head(2)"
      ],
      "metadata": {
        "trusted": true,
        "execution": {
          "iopub.status.busy": "2025-01-06T19:01:51.896959Z",
          "iopub.execute_input": "2025-01-06T19:01:51.897298Z",
          "iopub.status.idle": "2025-01-06T19:01:51.925459Z",
          "shell.execute_reply.started": "2025-01-06T19:01:51.897271Z",
          "shell.execute_reply": "2025-01-06T19:01:51.924275Z"
        },
        "id": "QbBM0mL8V60_",
        "outputId": "bd4447d5-93be-44ce-ae4f-090d159f4758"
      },
      "outputs": [
        {
          "execution_count": 146,
          "output_type": "execute_result",
          "data": {
            "text/plain": "                                                        title  \\\n0  Fossilfri maskinpark – muligheter for landbruket og status   \n1       Strømproduksjon fra husdyrgjødsel – enkel betraktning   \n\n                                                                                                                                                                                                                                                                                                                                                                                                                                                                                                                                                                                                                                                                                                                                                                                                                                                                                                                                                                                                                                                                                                                                                                                                                                                                                                                                                                                                                                                                                                                                                                                                                                                                                                                                                                                                                                                                                                                                                                                                                                                                                                                                                                                                                                                                                                                                                                                                                                                                                                                                                                                                                                                                                                                                                                                                                                                                                                                                                                                                                                                                                                                                                                                                                                                                                                                                                                                     text  \n0  \\n  Et av satsingsområdene i landbrukets klimaplan er utfasing av fossilt drivstoff og overgang til biodrivstoff eller maskiner som går på elektrisitet, biogass eller hydrogen. Mål om klimagassreduksjon er på 600 000 – 1 470 000t CO₂ ekvivalenter.\\n  «Klimakur 2030» forteller om ca. 160 000 registrerte traktorer i jordbruket som står for ca. 90 % av de totale utslippene fra næringens maskinpark. Et grovt anslag på CO₂-utslippet fra fossilt drivstoff brukt i traktorene kan beregnes til ca. 550 000t CO₂ ekv.\\n  Bruk av biodrivstoff ansees som et smertefritt tiltak, siden den ikke gir store driftsmessige eller tekniske konsekvenser. Avanserte biodrivstoff er mest brukt i Norge, og lages i all hovedsak av slakteavfall og brukt frityrolje. Konvensjonelle biodrivstoff baserer seg på landbruksvekster som raps og har fått en langt mindre avsetning i de senere årene. Det skal nevnes at prislappen på biodrivstoff er ca. 30 % høyere pr. liter enn fossil diesel. Pr. dags dato er det heller ikke noen norsk produksjon av biodiesel og tilgjengelig drivstoff blir produsert utenlandsk og underligger en streng sertifisering. \\n  Elektrisitet kan være et alternativ for mindre maskiner, som minilaster eller teleskoplastere. For traktorer vil dagens kapasitet på batteripakka være for liten for å gjennomføre de tyngre oppgavene i gårdsdrifta. Selv om en produsent tilbyr en 100Hk batteridreven smalsportraktor vil ikke denne traktoren være et alternativ for jordbrukeren og trolig passe mer til lettere oppgaver i kommunal drift. \\n  Gassdrevne traktorer med CBG (komprimert biogass)\\n  produseres i serie, et fåtall finnes i Norge pr. dags dato. New Holland T6 modell utstyrte med en 160Hk motor og etter opplysninger fra produsenten skal det komme en sterkere modell med 270Hk i slutten av 2024. CBG tankene på disse traktorene kan lagre maks 47kg CBG som tilsvarer ca. 61l diesel på energibasis. Prisen på CBG traktorer er ca. 25 – 30 % høyere enn hos tilsvarende dieselmodeller. Lønnsomheten for CBG som drivstoff forutsetter hyppig og jevn avsetning av gassen.\\n  Hydrogen som drivstoff kan være et fremtidig alternativ. Imidlertid kreves det en kostbar prosess for å lage hydrogen gjennom elektrolysen. Andre faktorer som lite energitetthet pr. volum i både gass – og flytende form og et lite utbygd distribusjonsnett tilsier at kommersiell bruk av den typen drivstoff neppe vil være et alternativ frem til 2030.\\n  Økte investerings- og driftskostnader ved overgang til fossilfri drivstoff må følges med tilskuddsordninger eller kostnadskompensasjoner. Vi registrerer et levende CO₂-marked for drivstoffdistributører i flere land i Europa, som gjør det lønnsomt å erstatte fossil med fossilfri drivstoff. Markedsprisen på CO₂ kvoten (€/t CO₂ – ekv) graderes etter substrat for å lage fossilfri drivstoff, der f.eks. husdyrgjødsel har høyest gradering og dermed kan gi høyere inntekter enn plantebasert drivstoff. Andre tiltak i andre EU-land er skattelettelse på fossilfri drivstoff.\\n  Det er vel å merke at landbruket kan produsere egen CBG fra egen husdyrgjødsel som da kan brukes i egne traktorer. Utenlandske erfaringer viser til at teknikken er moden både på oppgraderingsanlegg for mindre biogassanlegg, traktorer og private fyllestasjoner.  \n1                                                                                                                                                                                                                                                                                                                                                                                                                                                                                                                                                                                                                                                                                                                                                                                                                                                                                                                                                                                                                                                                                                                                                                                                                                                                                                                                                                                                                                                                                                                                               \\n  Husdyrgjødsel ansees som bøndenes gull fordi den har en bestemt gjødselverdi og sørger for at organisk materiale tilføres jorda som mat for mikroorganismene oppå og under torva. \\n  Den siste tiden har det vært mange spørsmål om husdyrgjødsel, biogass og strømproduksjon. Nedenfor står noen enkle betraktninger om denne tematikken som konkluderes med at husdyrgjødsel fungerer som strømkilde.\\n  I husdyrgjødsel ligger det en god del ufordøyde plantefibre og kornrester som har et gasspotensiale. Gassutbytte fra husdyrgjødsel er avhengig av hva produksjonsdyret fôres med. Eksempelvis vil gjødsla fra ei høytytende melkeku gi potensiell mer energi i sammenligning med ei ammeku, hvor fôringen baserer seg på sent slått gress. Rågassen kan da brukes til energiproduksjonen.\\n  I litteraturen finner man at 1t husdyrgjødsel, som brukes i et biogassanlegg, produserer grovt mellom 20 - 30m3 rågass. Faktorer som behandling og lagring av gjødsla bestemmer mulig utbytte av gass. I tillegg vil tiden mellom utskilt gjødsel frem til den ender opp i et anlegg bestemme hvor mye energi man muligens kan utvinne.\\n  Ikke all energi som ligger i husdyrgjødsel kan omformes til strømproduksjon, pga. høye energitap under prosessen. Grovt kan man si at 1m3 rågass gir 2,2kWh i strøm. Det må anmerkes at energitapet som oppstår under strømproduksjon kan gjenvinnes i form av overskuddsvarme.\\n  Tar man utgangspunkt i 20m3 rågass i 1m3 husdyrgjødsel storfe så kan denne mengden produsere 44kWh strøm. Ei melkeku med en ytelse på 8000t EKM produserer ca. 20t husdyrgjødsel pr år, som kan generere ca. 880kWh strøm.\\n  Så kan man selv se på strømforbruket sitt i hus, redskapshus eller fjøs og bli overrasket det ikke er mange melkekyr som skal til for å dekke strømbehovet sitt.  ",
            "text/html": "<div>\n<style scoped>\n    .dataframe tbody tr th:only-of-type {\n        vertical-align: middle;\n    }\n\n    .dataframe tbody tr th {\n        vertical-align: top;\n    }\n\n    .dataframe thead th {\n        text-align: right;\n    }\n</style>\n<table border=\"1\" class=\"dataframe\">\n  <thead>\n    <tr style=\"text-align: right;\">\n      <th></th>\n      <th>title</th>\n      <th>text</th>\n    </tr>\n  </thead>\n  <tbody>\n    <tr>\n      <th>0</th>\n      <td>Fossilfri maskinpark – muligheter for landbruket og status</td>\n      <td>\\n  Et av satsingsområdene i landbrukets klimaplan er utfasing av fossilt drivstoff og overgang til biodrivstoff eller maskiner som går på elektrisitet, biogass eller hydrogen. Mål om klimagassreduksjon er på 600 000 – 1 470 000t CO₂ ekvivalenter.\\n  «Klimakur 2030» forteller om ca. 160 000 registrerte traktorer i jordbruket som står for ca. 90 % av de totale utslippene fra næringens maskinpark. Et grovt anslag på CO₂-utslippet fra fossilt drivstoff brukt i traktorene kan beregnes til ca. 550 000t CO₂ ekv.\\n  Bruk av biodrivstoff ansees som et smertefritt tiltak, siden den ikke gir store driftsmessige eller tekniske konsekvenser. Avanserte biodrivstoff er mest brukt i Norge, og lages i all hovedsak av slakteavfall og brukt frityrolje. Konvensjonelle biodrivstoff baserer seg på landbruksvekster som raps og har fått en langt mindre avsetning i de senere årene. Det skal nevnes at prislappen på biodrivstoff er ca. 30 % høyere pr. liter enn fossil diesel. Pr. dags dato er det heller ikke noen norsk produksjon av biodiesel og tilgjengelig drivstoff blir produsert utenlandsk og underligger en streng sertifisering. \\n  Elektrisitet kan være et alternativ for mindre maskiner, som minilaster eller teleskoplastere. For traktorer vil dagens kapasitet på batteripakka være for liten for å gjennomføre de tyngre oppgavene i gårdsdrifta. Selv om en produsent tilbyr en 100Hk batteridreven smalsportraktor vil ikke denne traktoren være et alternativ for jordbrukeren og trolig passe mer til lettere oppgaver i kommunal drift. \\n  Gassdrevne traktorer med CBG (komprimert biogass)\\n  produseres i serie, et fåtall finnes i Norge pr. dags dato. New Holland T6 modell utstyrte med en 160Hk motor og etter opplysninger fra produsenten skal det komme en sterkere modell med 270Hk i slutten av 2024. CBG tankene på disse traktorene kan lagre maks 47kg CBG som tilsvarer ca. 61l diesel på energibasis. Prisen på CBG traktorer er ca. 25 – 30 % høyere enn hos tilsvarende dieselmodeller. Lønnsomheten for CBG som drivstoff forutsetter hyppig og jevn avsetning av gassen.\\n  Hydrogen som drivstoff kan være et fremtidig alternativ. Imidlertid kreves det en kostbar prosess for å lage hydrogen gjennom elektrolysen. Andre faktorer som lite energitetthet pr. volum i både gass – og flytende form og et lite utbygd distribusjonsnett tilsier at kommersiell bruk av den typen drivstoff neppe vil være et alternativ frem til 2030.\\n  Økte investerings- og driftskostnader ved overgang til fossilfri drivstoff må følges med tilskuddsordninger eller kostnadskompensasjoner. Vi registrerer et levende CO₂-marked for drivstoffdistributører i flere land i Europa, som gjør det lønnsomt å erstatte fossil med fossilfri drivstoff. Markedsprisen på CO₂ kvoten (€/t CO₂ – ekv) graderes etter substrat for å lage fossilfri drivstoff, der f.eks. husdyrgjødsel har høyest gradering og dermed kan gi høyere inntekter enn plantebasert drivstoff. Andre tiltak i andre EU-land er skattelettelse på fossilfri drivstoff.\\n  Det er vel å merke at landbruket kan produsere egen CBG fra egen husdyrgjødsel som da kan brukes i egne traktorer. Utenlandske erfaringer viser til at teknikken er moden både på oppgraderingsanlegg for mindre biogassanlegg, traktorer og private fyllestasjoner.</td>\n    </tr>\n    <tr>\n      <th>1</th>\n      <td>Strømproduksjon fra husdyrgjødsel – enkel betraktning</td>\n      <td>\\n  Husdyrgjødsel ansees som bøndenes gull fordi den har en bestemt gjødselverdi og sørger for at organisk materiale tilføres jorda som mat for mikroorganismene oppå og under torva. \\n  Den siste tiden har det vært mange spørsmål om husdyrgjødsel, biogass og strømproduksjon. Nedenfor står noen enkle betraktninger om denne tematikken som konkluderes med at husdyrgjødsel fungerer som strømkilde.\\n  I husdyrgjødsel ligger det en god del ufordøyde plantefibre og kornrester som har et gasspotensiale. Gassutbytte fra husdyrgjødsel er avhengig av hva produksjonsdyret fôres med. Eksempelvis vil gjødsla fra ei høytytende melkeku gi potensiell mer energi i sammenligning med ei ammeku, hvor fôringen baserer seg på sent slått gress. Rågassen kan da brukes til energiproduksjonen.\\n  I litteraturen finner man at 1t husdyrgjødsel, som brukes i et biogassanlegg, produserer grovt mellom 20 - 30m3 rågass. Faktorer som behandling og lagring av gjødsla bestemmer mulig utbytte av gass. I tillegg vil tiden mellom utskilt gjødsel frem til den ender opp i et anlegg bestemme hvor mye energi man muligens kan utvinne.\\n  Ikke all energi som ligger i husdyrgjødsel kan omformes til strømproduksjon, pga. høye energitap under prosessen. Grovt kan man si at 1m3 rågass gir 2,2kWh i strøm. Det må anmerkes at energitapet som oppstår under strømproduksjon kan gjenvinnes i form av overskuddsvarme.\\n  Tar man utgangspunkt i 20m3 rågass i 1m3 husdyrgjødsel storfe så kan denne mengden produsere 44kWh strøm. Ei melkeku med en ytelse på 8000t EKM produserer ca. 20t husdyrgjødsel pr år, som kan generere ca. 880kWh strøm.\\n  Så kan man selv se på strømforbruket sitt i hus, redskapshus eller fjøs og bli overrasket det ikke er mange melkekyr som skal til for å dekke strømbehovet sitt.</td>\n    </tr>\n  </tbody>\n</table>\n</div>"
          },
          "metadata": {}
        }
      ],
      "execution_count": null
    },
    {
      "cell_type": "code",
      "source": [
        "def get_embedding(text, model = 'text-embedding-3-small'):\n",
        "    text = text.replace('/n', '. ')\n",
        "    embedding = client.embeddings.create(input = [text], model = model).data[0].embedding\n",
        "    return embedding"
      ],
      "metadata": {
        "trusted": true,
        "execution": {
          "iopub.status.busy": "2025-01-06T19:01:51.926982Z",
          "iopub.execute_input": "2025-01-06T19:01:51.927382Z",
          "iopub.status.idle": "2025-01-06T19:01:51.938380Z",
          "shell.execute_reply.started": "2025-01-06T19:01:51.927344Z",
          "shell.execute_reply": "2025-01-06T19:01:51.937292Z"
        },
        "id": "t5fvERx0V60_"
      },
      "outputs": [],
      "execution_count": null
    },
    {
      "cell_type": "code",
      "source": [
        "get_embedding(text_combined_df['text'].iloc[0])[0:10]"
      ],
      "metadata": {
        "trusted": true,
        "execution": {
          "iopub.status.busy": "2025-01-06T19:16:48.626337Z",
          "iopub.execute_input": "2025-01-06T19:16:48.626830Z",
          "iopub.status.idle": "2025-01-06T19:16:48.811558Z",
          "shell.execute_reply.started": "2025-01-06T19:16:48.626796Z",
          "shell.execute_reply": "2025-01-06T19:16:48.810324Z"
        },
        "id": "OUgFv0VWV60_",
        "outputId": "eb1d474f-94eb-49b5-c335-dd468fbcf35b"
      },
      "outputs": [
        {
          "execution_count": 163,
          "output_type": "execute_result",
          "data": {
            "text/plain": "[-0.0008387480047531426,\n 0.02726868912577629,\n 0.024653296917676926,\n 0.013194872997701168,\n 0.00523078627884388,\n 0.03185634687542915,\n -0.02148052491247654,\n 0.02960539236664772,\n 0.0736168846487999,\n 0.023688601329922676]"
          },
          "metadata": {}
        }
      ],
      "execution_count": null
    },
    {
      "cell_type": "markdown",
      "source": [
        "For simplicity of this example, we take only the first 50 articles"
      ],
      "metadata": {
        "id": "kvrsvif8V60_"
      }
    },
    {
      "cell_type": "code",
      "source": [
        "text_combined_embeddings_df = text_combined_df.head(50).copy()"
      ],
      "metadata": {
        "trusted": true,
        "execution": {
          "iopub.status.busy": "2025-01-06T19:01:52.103973Z",
          "iopub.execute_input": "2025-01-06T19:01:52.104347Z",
          "iopub.status.idle": "2025-01-06T19:01:52.110473Z",
          "shell.execute_reply.started": "2025-01-06T19:01:52.104312Z",
          "shell.execute_reply": "2025-01-06T19:01:52.109368Z"
        },
        "id": "PZcB9q6kV60_"
      },
      "outputs": [],
      "execution_count": null
    },
    {
      "cell_type": "code",
      "source": [
        "%%time\n",
        "text_combined_embeddings_df['embeddings'] = text_combined_embeddings_df['text'].apply(get_embedding)"
      ],
      "metadata": {
        "trusted": true,
        "execution": {
          "iopub.status.busy": "2025-01-06T19:01:52.111597Z",
          "iopub.execute_input": "2025-01-06T19:01:52.111877Z",
          "iopub.status.idle": "2025-01-06T19:02:05.998027Z",
          "shell.execute_reply.started": "2025-01-06T19:01:52.111854Z",
          "shell.execute_reply": "2025-01-06T19:02:05.996688Z"
        },
        "id": "CZLv6HDnV61A",
        "outputId": "13edce9d-aac7-47cd-8dd7-6990e9537858"
      },
      "outputs": [
        {
          "name": "stdout",
          "text": "CPU times: user 193 ms, sys: 15.8 ms, total: 208 ms\nWall time: 13.9 s\n",
          "output_type": "stream"
        }
      ],
      "execution_count": null
    },
    {
      "cell_type": "code",
      "source": [
        "text_combined_embeddings_df.to_csv('./website_text_with_embeddings.csv', index = False)"
      ],
      "metadata": {
        "trusted": true,
        "execution": {
          "iopub.status.busy": "2025-01-06T19:02:05.999530Z",
          "iopub.execute_input": "2025-01-06T19:02:05.999966Z",
          "iopub.status.idle": "2025-01-06T19:02:06.122032Z",
          "shell.execute_reply.started": "2025-01-06T19:02:05.999898Z",
          "shell.execute_reply": "2025-01-06T19:02:06.121055Z"
        },
        "id": "MAsqIVlDV61A"
      },
      "outputs": [],
      "execution_count": null
    },
    {
      "cell_type": "code",
      "source": [
        "question_embedding = get_embedding(question)\n",
        "question, question_embedding[0:10]"
      ],
      "metadata": {
        "trusted": true,
        "execution": {
          "iopub.status.busy": "2025-01-06T19:02:06.123284Z",
          "iopub.execute_input": "2025-01-06T19:02:06.123771Z",
          "iopub.status.idle": "2025-01-06T19:02:06.300120Z",
          "shell.execute_reply.started": "2025-01-06T19:02:06.123739Z",
          "shell.execute_reply": "2025-01-06T19:02:06.298800Z"
        },
        "id": "ZBpwm9x1V61A",
        "outputId": "36939894-fea0-48ba-973d-1418218827b0"
      },
      "outputs": [
        {
          "execution_count": 152,
          "output_type": "execute_result",
          "data": {
            "text/plain": "('Bør bøndene vurdere bioenergi?',\n [-0.014635080471634865,\n  0.02086324244737625,\n  0.005180048290640116,\n  0.010354594327509403,\n  -0.005931058898568153,\n  0.07390165328979492,\n  -0.043046943843364716,\n  -0.012588370591402054,\n  0.07236111909151077,\n  -0.02636515349149704])"
          },
          "metadata": {}
        }
      ],
      "execution_count": null
    },
    {
      "cell_type": "markdown",
      "source": [
        "# Similar topics"
      ],
      "metadata": {
        "id": "u8rsvZ87V61A"
      }
    },
    {
      "cell_type": "code",
      "source": [
        "def find_distance(page_embedding, question_embedding = question_embedding):\n",
        "    distance = np.dot(page_embedding, question_embedding)\n",
        "    return distance"
      ],
      "metadata": {
        "trusted": true,
        "execution": {
          "iopub.status.busy": "2025-01-06T19:02:06.301537Z",
          "iopub.execute_input": "2025-01-06T19:02:06.302030Z",
          "iopub.status.idle": "2025-01-06T19:02:06.308879Z",
          "shell.execute_reply.started": "2025-01-06T19:02:06.301986Z",
          "shell.execute_reply": "2025-01-06T19:02:06.307692Z"
        },
        "id": "xx0GY8EbV61B"
      },
      "outputs": [],
      "execution_count": null
    },
    {
      "cell_type": "code",
      "source": [
        "text_combined_embeddings_df['distance'] = text_combined_embeddings_df['embeddings'].apply(find_distance)"
      ],
      "metadata": {
        "trusted": true,
        "id": "r_Wn_HRvV61B"
      },
      "outputs": [],
      "execution_count": null
    },
    {
      "cell_type": "code",
      "source": [
        "text_combined_embeddings_df.sort_values('distance', ascending = False, inplace = True)"
      ],
      "metadata": {
        "trusted": true,
        "execution": {
          "iopub.status.busy": "2025-01-06T19:33:42.326543Z",
          "iopub.execute_input": "2025-01-06T19:33:42.327083Z",
          "iopub.status.idle": "2025-01-06T19:33:42.334469Z",
          "shell.execute_reply.started": "2025-01-06T19:33:42.327048Z",
          "shell.execute_reply": "2025-01-06T19:33:42.332998Z"
        },
        "id": "3LZ9VBciV61B"
      },
      "outputs": [],
      "execution_count": null
    },
    {
      "cell_type": "code",
      "source": [
        "text_combined_embeddings_df[['title', 'text', 'distance']].head()"
      ],
      "metadata": {
        "trusted": true,
        "execution": {
          "iopub.status.busy": "2025-01-06T19:09:27.816152Z",
          "iopub.execute_input": "2025-01-06T19:09:27.817343Z",
          "iopub.status.idle": "2025-01-06T19:09:27.837126Z",
          "shell.execute_reply.started": "2025-01-06T19:09:27.817298Z",
          "shell.execute_reply": "2025-01-06T19:09:27.835807Z"
        },
        "id": "51vxfNwWV61B",
        "outputId": "6f75ded9-6849-402e-9c27-b3f7c93c9657"
      },
      "outputs": [
        {
          "execution_count": 162,
          "output_type": "execute_result",
          "data": {
            "text/plain": "                                          title  \\\n3                         Bioenergi er lønnsomt   \n4                   Garden som energiprodusent?   \n8  Biogassproduksjon på gården - den nye oljen?   \n2     Høgaktuelt med energiproduksjon på garden   \n7       Status solceller: Er det fortsatt lurt?   \n\n                                                                                                                                                                                                                                                                                                                                                                                                                                                                                                                                                                                                                                                                                                                                                                                                                                                                                                                                                                                                                                                                                                                                                                                                                                                                                                                                                                                                                                                                                                                                                                                                                                                                                                                                                                                                                                                                                                                                                                                                                                                                                                                                                                                                                                                                                                                                                                                                                                                                                                                                                                                                                                                                                                                                                                                                                                                                                                                                                                                                                                                                                                                                                                                                                                                                                                                                                                                                                                                                                                                                                                                                                                                                                                                                                                                                                                                                                                                                                                                                                                                                                                                                                                                                                                                                                                                                                                                                                                                                                                                                                                                                                                                                                                                                                                                                                                                                                                                                                                                                                                                                                                                                                                                                                                                                                                                                                                                                                                                                                                                                                                                                                                                                                                                                                                                                                                                                                                                                                                                                                                                                                                                                                                                                                                                                                                                                                                                                                                        text  \n3                                                                                                                                                                                                                                                                                                                                                                                                                                                                                                                                                                                                                                                                                                                                                                                                                                                                                                                                                                                                                                                                                                                                                                                                                                                                                                                                                                                                                                                                                                                                                                                                                                                                                                                                                                                                                                                                                                                                                                                                                                                                                                                                                                                                                                                                                                                                                                                                                                                                                                                                                                                                                                                                                                                                                                                                                                                                                                                                                                                                                                                                                                                                                                                                                                                                                                      \\n  Det har vært skrevet metervis av artikler og fagskrifter om det grønne skifte. Alt er grønt, og et av de viktigste tiltakene for Norge skal komme fra den grønne skogen. Det er sant, men det skjer også i dag, halvparten av CO2 utslippet på fastlands Norge blir tatt opp av skogen. Videre mål blir å redusere CO2 utslippet. Den enkleste og mest lønnsomme måten man gjør det på er å velge bioenergi som oppvarmingskilde. Nå har alle gårdeiere i Sør-Norge mulighet til å få gratis befaring og hjelp til å se på mulighetene på egen gård.\\n  Eiere av landbrukseiendommer har et kjempefortrinn. De kan være selvforsynt med energi. En gård kan hente varmen fra bioenergi hentet i egen skog, og låvetaket er velegnet for solcellepaneler. Og med dette spare energikostnader. Du blir ikke lenger påvirket av høye nettleier eller høye strømpriser på gitte tider av døgnet. I snitt betaler du kanskje bare 50 øre/kWh for biovarme. Merkostnaden ved å bruke litt mer flis altså øke varmebehovet er ikke mer enn 25 øre/kWh. Jeg vil tro at de som krabber på gulvet eller går i gangen inne blir glad for en jevn varm temperatur i huset. Samtidig blir ikke virke med lav kommersiell verdi stående igjen etter en hogst, den blir brukt til varme på gården. Tilveksten øker, og verdien av skogen øker. Synergien av å øke varmen kan også gi økonomisk gevinst, tilveksten hos kylling og gris øker, veterinærkostnaden reduseres. Fòr kostnaden til kua går ned når drikkevannet varmes til 12-14 grader, da bruker kua ikke samme energi på å få opp kroppstemperaturen. Kanskje blir redskapen overhalt i et varmt verksted før våronna?\\n  Potensialet er stort for bioenergi. Du får til og med økonomisk støtte fra Innovasjon Norge, de kan bidra med hjelp, opptil en tredjedel av investeringskostnaden kan du få.\\n  Blir du fristet til spare penger? Lurer du på om det er lønnsomt for akkurat din gård?\\n  Prosjektleder for Bioenergiprosjektet, Kjetil Øi hjelper deg gjerne på veien mot en grønnere og varmere gård. Bioenergiprosjektet kan hjelpe deg med vurderingen. Jeg hjelper til med å beregne energibehov og effektbehov på din gård. Sammen ser vi på praktiske løsninger og sørger for at jobben blir lite arbeidskrevende i fremtiden. God planlegging er avgjørende for at du blir fornøyd. Videre ser vi lønnsomheten og jeg hjelper deg med å skrive søknad til Innovasjon Norge.\\n  Dette gratis tilbudet varer ut prosjektperioden som er i august. Så benytt sjansen nå.\\n  Bioenergiprosjektet er et samarbeidsprosjekt mellom fire fylker og er finansiert av Fylkesmannen i Aust- og Vest-Agder, Fylkesmannen i Telemark, Fylkesmannen i Vestfold, fylkeskommunene i Aust-Agder, Vest-Agder og Vestfold og Innovasjon Norge.\\n  Så ta kontakt med Kjetil Øi for en hyggelig prat. Prosjektleder bioenergi\\n  Fylkesmannen i Aust- og Vest-Agder, Landbruksavdelinga, fmavkoi@fylkesmannen.no\\n  Tlf 37 01 78 38 eller mob 97 13 01 19\\n  Artikkelen er skrevet av Kjetil Øi fra Fylkesmannen i Aust- og Vest Agder på oppdrag fra Norsk Landbruksrådgiving Agder.  \n4                                                                                                                                                                                                                                                     \\n  Økonomi, høge energiprisar, klimakrise – det kan vere mange grunnar til at gardbrukarar vurderer å investere i bioenergi.\\n  Interessa for å produsere eigen energi er større enn nokon gong. Nokon går til og med så langt at dei ynskjer å vere såkalla off grid, dvs. ein bustad, eit gardsbruk eller ein livsstil der ein er sjølvforsynt. Gardsbruka har mange ressursar som kan nyttast til energiproduksjon, men kva høver for din gard?\\n  Frå solstrålar til straum\\n  Solcelleanlegg er ei lågthengande frukt dersom du ynskjer å produsere eigen straum. Det finst fleire nettstader der du skriv inn adressa di, og får berekna kva taka dine kan gje. Prøv for eksempel https://solkart.no/. Det er ikkje berre tak som egner seg til solceller; fasadar kan òg vere aktuelle. Straumbehovet er ofte ulikt gjennom døgeret, og det kan vere nyttig å få oversikt over korleis døgnvariasjonen er på din gard.\\n  I periodar med mykje lys, men lågt energiforbruk på garden, kan det hende du produserer meir straum enn du treng. Då vert overskotet av straum sendt ut på nettet. Prisen er den same som spotprisen på straum i den aktuelle timen.\\n  Kva er effekten og ytinga på solcellene? Effekten til straum målast i watt, medan effekten for solceller målast i wattpeak (wp). Med «peak» meinast den høgaste effekten ein kan oppnå under optimale tilhøve. 3 kWp tyder at eit solcelleanlegg med «full tilgjengeleg solkraft» kan levere opptil 3000 watt. Nyttar du til dømes eit mjølkeanlegg i ein båsfjøs kan det vere at dette treng 3000 watt (eller 3 kW). Vi har ikkje full solkraft heile tida. Det varierer med vèret og er ulikt mellom landsdelar. På Vestlandet opererer vi ofte med 650-700 kWh/kWp.\\n  Frå solstrålar til varmt vatn\\n  Solfangarar gjer om energien i solstrålane til varme. Dersom det er varmt vatn du treng så er det dette du skal investere i. Hugs at også her vert det produsert mest varmt vatn om sommaren då du kanskje har eit mindre oppvarmingsbehov.\\n  Eit solfangaranlegg består av solfangar, røyr akkumulatortank og styringssystem med pumpe. Som med solceller kan solfangarar integrerast i tak, fasadar eller på bakken/i skråningar.\\n  Biovarme = forbrenning av biomasse\\n  Biovarme er alle former for oppvarming som kjem av forbrenning av biomasse; det kan vere ved, flis, pellets eller anna. Å brenne biovarme er CO2-nøytralt. Forklaringa er at plantane har teke opp CO2 gjennom fotosyntesen og ved forbrenning vert den same mengda CO2 bli ført tilbake. Om du fangar og lagrar CO2 når du forbrenner, vil du fjerne CO2 frå atmosfæren. Biovarme vil avlaste straumnettet og dermed frigjere høgverdig elektrisitet til andre formål. Her vil samfunnet spare ved å sleppe å bygge ut straumnettet.\\n  Biokraft vil seie å lage straum av biomasse. Ein forbrenner biomassen, nyttar varmen til å koke vatn, for så å bruke dampen til å drive ein turbin som produserer elektrisitet.\\n  Storleiken på investeringa i eit biovarmeanlegg vil vere veldig forskjellig. Biovarmeanlegg kan vere alt frå ein vedomn til vasskappe til eit stort og automatisert flisfyringsanlegg. Kva har du av tilgjengeleg biomasse hjå deg? Kva oppvarmingsbehov har du? Har du kanskje allereie opplegg for vassboren varme?\\n  Biogass på min gard?\\n  Investering i biogassanlegg ligg i motsett ende i forhold til solceller når det gjeld omfang på forarbeid. I eit forprosjekt er det viktig å kartlegge til dømes lagring og logistikk av gjødsel, spreieareal, estimert gassproduksjon, vedlikehaldskostnader samt alle andre faktorar som er av betydning. Det er fleire ulike leverandørar og ein del av anlegga skil seg veldig frå kvarandre. Du kan søkje støtte til forprosjektering av biogassanlegg frå Innovasjon Norge.\\n  Tradisjonelle biogassanlegg krev ein viss mengde husdyrgjødsel og gjerne noko meir energirike substrat i tillegg for å få lønsemd. Mindre bruk kan gjerne gå saman om eit biogassanlegg eller dei kan levere husdyrgjødsel og ta i mot biorest til/frå større anlegg. Det kan òg hende at vi kan få biogassanlegg framover for mindre besetningar. Leverandørar for ein type anlegg i Noreg har sagt dei kan rekne det «heim» ned til 25 kyr. I den siste tida har det blitt starta opp fleire anlegg og fleire er under bygging. Det er viktig at vi får erfaringstal frå desse anlegga for å kunne gje gode svar til gardbrukarane.\\n  Biogass er ein rotneprosess som skjer utan luft. Husdyrgjødsel og evt. andre tilleggssubstrat vert pumpa inn og vi får ut gass (metan + CO2) og biorest som to sluttprodukt. Bioresten vil ofte ha betre eigenskapar som gjødsel samanlikna med husdyrgjødsel.\\n  Biogass er fornybar og klimanøytral fordi den allereie finnest i krinslaupet. Atmosfæren får ikkje tilført meir CO2 ved bruk enn ved naturleg nedbryting. Vert biogassen nytta som drivstoff vert utsleppet av CO2 redusert med 2,7 kg for kvar liter diesel ein byter ut. Oppgradering av gass til drivstoff krev ein viss mengde gass, og er per no ikkje aktuelt for gardsanlegg. På gards- og grendeanlegg vert gassen brent direkte for varmeproduksjon. Ein kan òg produsere straum frå biogass ved hjelp av ein gassturbin, men ein vil uansett få ut mesteparten av energien i gassen som varme.\\n  Kombinasjon av fleire energikjelder\\n  Solceller kan kombinerast med straum frå nettet eller for eksempel ved/flisfyring. Solceller om sommaren og vedkjel om vinteren? Straum frå solceller eller biogassanlegg kan kombinerast med varmepumpe for å få ut høgare effekt på oppvarming. Moglegheitene er mange, og du må finne det som er mest optimalt for din gard og ditt behov.\\n  Norsk landbruksrådgiving med rådgivingsteneste innanfor bioenergi\\n  Kva er ressursgrunnlaget for energiproduksjon på din gard? Har du skog? Har du takflater? Har du husdyrgjødsel? Treng du hjelp for å gjere ein avklaringsprosess? Treng du bistand til forprosjekt?\\n  NLR hjelper deg å ta kunnskapsbaserte val. Få svar av uavhengige rådgjevarar. Ta kontakt med oss! Fornybar energi | Norsk Landbruksrådgiving (nlr.no).  \n8                                                                                                                                                                                                                                                                                                                                                                                                                                                                                                                                                                                                                                                                                                                                                                                                                                                                                                                                                                                                                                                                                                                                                                                                                                                                                                                                                                                                                                                                                                                                                                                                                      \\n  Økte energipriser har økt interessen for biogass. Inntil nylig krevde anlegg for produksjon av biogass store volum av husdyrmøkk eller annet avfall. Nå kommer det mindre, rimeligere gårdsanlegg som kan gjøre biogassanlegg aktuelt for flere.\\n  Gårdsanlegg for produksjon av biogass har vært i markedet i vel 15 år, men frem til nylig har det blitt installert svært få anlegg. De siste årene har det skjedd flere ting som gjør slike anlegg mye mer interessante enn de har vært. Gjennom tilskuddsordningen for fornybar energi, kan Innovasjon Norge nå gi 45 prosent investeringstilskudd for biogassanlegg. I tillegg har det kommet tilskudd for å levere husdyrgjødsel til biogassanlegg.\\n  Energipriser påvirker\\n  En annen viktig faktor til interessen, er nok de høye energiprisene vi nå opplever. Mange forventer at strømprisen ikke vil komme ned på de lave nivåene vi har hatt historisk. Med en strømgenerator kan gården bli mer eller mindre selvforsynt med strøm gjennom hele året. Den aller største interessen for biogass virker å være på Vestlandet og nordover. I Rogaland er det håp om at slike anlegg kan bidra til å løse problemer med overskudd av fosfor. Lenger nord betaler oppdrettsnæringen godt for å levere avfall til biogassanleggene. Samtidig foregår det en rivende utvikling innen reaktorteknologi. Nyutviklede, kompakte anlegg tilpasset normale norske bruksstørrelser er på vei. Og enkelte aktører satser nå hardt på salg og markedsføring av gårdsanlegg.\\n  Hvordan virker det?\\n  Kort fortalt er et biogassanlegg en mekanisk etterligning av en kumage. Reaktoren er en tank uten tilgang på oksygen, hvor anaerobe bakterier spiser organisk materiale og slipper ut metan og CO2. Tradisjonelle anlegg har store, isolerte betongtanker med røreverk. Nyere varianter har mer kompakte flerkammersystemer. Målet er å få størst mulig overflate for bakteriene å vokse på. I tillegg til selve reaktoren trengs det en forbehandlingstank hvor møkk og annet organisk avfall males opp, blandes og pumpes inn i reaktoren. Når prosessen i reaktoren er ferdig, typisk etter et par uker, pumpes det som nå har blitt biorest over i et sluttlager.\\n  Tilgang på råstoff\\n  Gårdsbiogassanlegg baseres som regel på behandling av flytende ku- eller grisemøkk. I tillegg tar noen imot fjørfegjødsel, matavfall, fiskeavfall eller annet næringsrikt organisk avfall. Slikt avfall er gjerne tørrere og har derfor langt større gasspotensiale per tonn enn husdyrgjødsel. Type avfall vil med andre ord ha mye å si for hvor mye gass anlegget kan produsere.\\n  Behov for mye varme?\\n  Den mest effektive utnyttelsen av gassen som produseres har vi ved direkte oppvarming. Men man er avhengig av et betydelig varmebehov for å utnytte all varmen fra et typisk gårdsanlegg. De fleste gårdsanlegg planlegges derfor med en gassdrevet strømgenerator, såkalt «CHP»- Combined heat and power. Denne omgjør 30-40 prosent av gassen til elektrisitet, som kan brukes på gården eller selges på nettet. Men 60-70 prosent av gassen må fortsatt gå til direkte oppvarming, også i sommerhalvåret. Det kan være aktuelt å grave gassrør til naboer med større varmebehov, men dette blir fort kostbart. For et gjennomsnittlig norsk husdyrbruksbruk trengs det derfor mindre, rimeligere anlegg, hvor gassproduksjonen står bedre i stil til varmebehovet.\\n  Nabosamarbeid\\n  Samarbeid mellom flere bønder kan gi større tilgang på gjødsel og kanskje bedre utnyttelse av produsert varme om det er kort avstand. Utnyttelsen av bioresten kan også bli bedre om flere bønder samarbeider. Det er flere måter å organisere et slikt samarbeid, fra avtale om mottak av biorest eller levering av møkk til at anlegget bygges med felles kapital.\\n  Lønnsomhet\\n  En skal være forsiktig med å spå noe om lønnsomheten i energiproduksjon. Den voldsomme økningen i strømpris fra høsten 2021 har gjort regnestykkene langt bedre for alle prosjekter, spørsmålet er hvilket nivå vi vil se på lengre sikt. Uansett energipris vil tilskudd være en betydelig del av inntekten på et gårdsanlegg. Investeringsstøtten fra Innovasjon Norge ligger på 45 prosent inntil 8 millioner. I tillegg gis det nå årlig tilskudd for levering av husdyrgjødsel til biogassanlegg. Generelt kan vi si at gårdsbiogass er mer lønnsomt nå enn tidligere, men en er avhengig av å få tilskudd til investeringen og at tilskuddsordningen for levering av gjødsel vedvarer i mange år framover.\\n  Vi hjelper deg\\n  NLR har etablert to rådgivingsteam som kan bistå deg dersom du ønsker hjelp med avklaring eller planlegging av anlegg for fornybar energi. Teamene dekker hele landet. Team biogass kan treffes på telefon 414 48 779.  \n2  \\n  Høye energipriser gjør det aktuelt for bønder å produsere mer av sin egen energi enten i form av elektrisitet og/eller varme. Energiproduksjon for salg også aktuelt. \\n  De fleste tiltak er søknadspliktige. NLR har landsdekkende rådgivere som kan bistå med rådgiving, søknad om tilskudd, byggesøknad osv.\\n  Les meir om tenesta vår på området:\\n  Fornybar energi\\n  Solceller på tak er en effektiv måte å produsere egen strøm uten mye ettersyn og vedlikehold. Hos Innovasjon Norge vektlegges og prioriteres anlegg som har et betydelig forbruk i næring der landbruksvirksomheten er viktig for sysselsetting på gården. Det gis ikke støtte til mindre anlegg og anleggene må ha tilstrekkelig lønnsomhet etter investering. Egne regler for veksthus.\\n  Enova gir støtte til mindre private anlegg.\\n  En av ulempene med solceller at de produserer normalt lite av årsproduksjonen i perioden november – februar. Belegg fra støv fra ventilasjon fra gris og fjørfe kan også være en utfordring i forhold til virkningsgrad.\\n  Forventet levetid + 30år.\\n  Vindkraft tilpasset energibehovet til gården begynner å bli et lønnsomt alternativ. Men her er regelverk og støtteordninger ikke på plass. I Time kommune. Rogaland, er det gitt dispensasjon* for å sette opp 1 stk 26 meter høy gårdsvindmølle med ytelse 25kW og årsproduksjon 70 000 – 110 000 kW årlig. *Skal behandles i Rogaland fylkeskommune.\\n  Enova gir støtte til små private vindturbiner, men er lite aktuelt for landbruk. \\n  Vindturbiner tilpasset gårdsnivå har ikke støtteordning foreløpig.\\n  Ulempene med vindkraft er ca 35% produksjon i forhold til installert effekt, samt støy og det visuelle med tanke på naboer. Ikke alle områder at netteier har kapasitet på nett, trafo o.l. til å ta imot overskuddsproduksjon.\\n  Forventet levetid 20-30 år.\\n  Prisnivå: fra kr 1,3 millioner + mva\\n  I landbruk vil luft-luft fungere dårlig pga mye støv og gasser i husdyrrom. Det gis heller ikke støtte til luft-luft eller luft-vann løsninger til næring. Noen kommuner gir nå støtte til installasjon av luft-luft varmepumpe til bolig som et ekstraordinært tiltak (sjekk med din kommune).\\n  Større luft-vann varmepumper er det rimeligste alternativet og fungerer godt langs sør- og vestlandskysten, også om vinteren. Luft-vann varmepumper kan leveres som lavtemperatur (maks 50 oC) og høytemperatur (maks 80 oC), eller som begge deler. Vedlikeholdsbehovet er lavt ved varmepumpeløsning.\\n  Prisnivå: fra kr 150 000,-\\n  Væske-vann varmepumpe kan også være en god løsning ved bruk av vannbåren varme, spesielt i områder med mye lave temperaturer i vinterhalvåret.\\n  Innovasjon Norge: det gis støtte til væske-vann varmepumper som skal levere energi til næring alene eller sammen med leveranse til boliger. Det er en forutsetting av det monteres energimåler og at eiendommen kan dokumentere avgiftspliktig omsetning.\\n  Anleggene må ha tilstrekkelig lønnsomhet etter investering. Behovet for energi må dokumenteres.\\n  Med væske-vann menes nedgravd kollektorslange i jord, kollektorslange i vann/sjø eller kollektorslange i borehull. \\n  Enova\\n  gir inntil 10 000 kr i støtte til væske-vann varmepumpe til bolig.\\n  Forventet levetid væske-vann varmepumpe 10 – 20 år. Etanol eller glykol blir mye brukt som energibærer i kollektorslange.\\n  Kollektorslange nedgravd på ca 1 meter i jord fungerer best i område uten tung trafikk, f.eks. hage.\\n  Kollektorslange i vann/sjø krever nærhet til vann/sjø. I sjø kan «groe» som isolerer kollektorslange være et problem \\n  Borehull (energibrønn) vil kunne brukes for uttak av energi i +100 år. Det mest negative med borehulls-løsning er høy investeringskostnad. Borehull er også dårlig løsning i løse grunnmasser.\\n  Prisnivå: fra kr 200 000,- + borehull\\n  Ved/flisfyr er et godt varmealternativ i områder med god tilgang på trevirke. Akkumulatortank (godt isolert stor vannbeholder) kreves for å få jevn belastning av fyren. \\n  Eksempel på løsning kan være å støpe dekke i betongsilo som er ute av bruk og dermed få brannsikkert fyrrom under. Dekket over kan brukes til vedlager eller flismagasin.\\n  Pellets fylles på i magasin og mates inn i en fyrkjel som tilpasser forbrenningen etter behovet i varmemagasinet. Pelletsfyring er en automatisert løsning som krever lite tilsyn, men noe manuell håndtering av pellets.\\n  Kjøp av pellets gir relativt høy kWh-pris\\n  Prisnivå: fra 35 000,- \\n  Varmesystem med manuelt innlegg av ved 0,5 - 2 ganger / døgn. Fyren varmer opp stort varmemagasin der varme til f.eks. bolig hentes fra. \\n  Krever mye manuell håndtering av ved til faste tider, men gir lav kWh-pris ved høy egeninnsats i vedproduksjonen.\\n  Prisnivå: fra kr 75 000,- \\n  Hele tømmerstokker tørkes og flises opp med stor flisekutter. Flis fylles på i magasin med bunnuttak. Flisen skrues inn i en fyrkjel som tilpasser forbrenningen etter behovet i varmemagasinet. Flisfyring er en automatisert løsning som krever lite tilsyn / manuell håndtering.\\n  Store flisfyringsanlegg egner seg også godt til salg av varme.\\n  Innovasjon Norge gir støtte til anlegg basert på biovarme.\\n  Enova gir ikke støtte til biovarme på landbrukseiendom\\n  Prisnivå: fra kr 300 000,-\\n  Solfanger er lite aktuelt i landbruk på våre breddegrader dersom varmebehovet ikke er stort på sommeren. Lav effekt i vinterhalvåret.\\n  Blanding av husdyrgjødsel, matavfall og annet organisk avfall pumpes inn i en tett råtnetank hvor anaerobe mikroorganismer bryter ned og produserer gasser som i hovedsak består av metan og CO2. Denne gassmiksen kaller vi biogass. Det bør være tilgang til minst 4000 m3 husdyrgjødsel i tillegg til andre substrater for å få lønnsomhet ut av et biogassanlegg.\\n  Biogassen kan brennes direkte for varmeproduksjon. I stasjonære motorer eller gassturbiner kan gassen brukes til elektrisitet- og varmeproduksjon. Ca 1/3 blir elektrisitet og ca 2/3 blir til varme.\\n  Biogassen kan også oppgraderes til ren metangass og brukes til drivstoff.\\n  Innholdet i råtnetanken etter uttak av biogass kalles for biorest, og er en homogen blanding som kan brukes som gjødsel.\\n  1 m3 biogass gir 6,2 kWh\\n  Innovasjon Norge støtter biogassprosjekt i landbruket.\\n  Prisnivå: fra kr 4 millioner .  \n7                                                                                                                                                                                                                                                                                                                                                                                                                                                                      \\n  Svaret er ja. Vi mener det fortsatt er lurt å investere, om man har et visst forbruk på gården i sommerhalvåret. Det er på den tiden av året hvor det produseres mest kraft fra solcellene.\\n  Artikkelen sto første gang på trykk i Grønt i Fokus nr. 2-2023\\n  Hvem det er lurt for, er et litt mer komplisert spørsmål, og vanskelig å gi et generelt, godt svar på. Svaret er nok ofte de gårdbrukerne som er i posisjon til å få tildelt investeringsstøtte fra Innovasjon Norge, hvor støtten ofte utgjør 20-35 % av den totale investeringen. \\n  KRAV OG KRITERIER FOR STØTTE\\n  Ordning med tilskudd til solcelleanlegg ble etablert i 2017 gjennom «Bioenergiprogrammet», som nå heter «Verdiskapningsprogrammet for klimatiltak i landbruket». De første årene var det krav om at det var etablert et biofyringsanlegg på gården. Fra og med 2020 ble det gitt mulighet for frittstående solcelleanlegg, uavhengig av om det var biofyringsanlegg på gården fra før. \\n  Det stilles krav til en selvstendig lønnsomhet for solcelleanlegget. I henhold til Innovasjon Norges retningslinjer legges det til grunn en internrente på minimum 4 % før tilskudd fra Innovasjon Norge. Investeringsstøtte kan ytes med inntil 35 % av godkjente kostnader, normalt har støtte ligget på 20-25 % for både 2021 og 2022. Maks internrente har ligget på inntil 8 %. Lønnsomhetsberegning skjer automatisk i søknadsmalen.\\n  Levetiden på solcellene er basert på 25 år, selv om det fortsatt kan produseres strøm etter dette. Det beregnes et effekttap, og normalt vil tapet være 15-20 % i levetiden. Innovasjon Norge legger ofte til grunn en gjennomsnittlig produksjon på ca. 90 %. Dette er nok et konservativt anslag, og vi tror det ville høyere enn 90% etter 25 år. De siste 20 år har gjennomsnittlig årlig strømpris ligget på ca. 30 øre, noe lavere i sommerhalvåret. Det kan nevnes at i juli 2020 lå strømprisen på Østlandet på 1,5 øre pr. kwt, mot 57,5 øre juli 2021. I Tromsø var tilsvarende priser på 2,9 øre og 22,8 øre.\\n  LØNNSOMT ELLER IKKENVE utgir årlige fremtidsanalyser med hva de tror om kraftprisene fremover. I analysen fra 2020 ligger NVEs kraftprisbane mellom 25 og 48 øre/kWh for år 2040, avhengig av hvilke forutsetninger på brensels- og CO2-priser som legges til grunn.\\n  I rapporten fra 2021 ligger prisen høyere, i området 38- 63 øre, med størst sannsynlighet i området 50 øre for en gjennomsnittlig kraftpris i Norge. For ordens skyld nevnes at nettleie, elavgift og mva. kommer i tillegg. Innovasjon Norge har lagt til grunn en samlet energipris til eget bruk (inklusive energiledd, elavgift og nettleie) på 80 – 100 øre pr. kwh eks. mva. i sine beregninger.\\n  I takt med prisøkningen på elektrisk kraft, har riktignok kravene blitt tøffere for de som får tildelt støtte. Dette henger sammen med at prosjektene blir mer lønnsomme, jo høyere kraftprisen er. Er prosjektet lønnsomt uten støtte, kan man risikere å få avslag på søknaden om tilskudd. Dette står klart og tydelige i INs mandat, så det er vanskelig å argumentere imot dette. IN skal hovedsakelig støtte ulønnsomme prosjekter, slik at de ved hjelp av støtteordningen blir lønnsomme nok til at de gjennomføres.\\n  PROSJEKT MED KLIMA- OG MILJØEFFEKTBionova ble etablert 1 januar 2023 som en egen enhet, organisert under Innovasjon Norge. Bionova vil få ansvaret for forvaltningen av «verdiskapningsprogrammet for fornybar energi og teknologi i landbruket». Pengepotten har økt fra 112 millioner i 2022 til 162 millioner i 2023. Vi ser av grafen at det er flest innvilgede søknader i Innlandet, mens summen i kroner er størst i Viken. Kravene som Bionova stiller til norske bønder er at prosjektet skal være lønnsomt. Det blir også vektlagt gårdens økonomiske gjennomføringsevne, samt at prosjektet har en viss klima- og miljøeffekt. Et anlegg må ha god sammenheng mellom behovet for energi, og de ressursene som er tilgjengelige på gården. Alle søknader behandles individuelt, og det er alltid lurt å være tidlig ute med søknaden i begynnelsen av året.\\n  ØKT KRAFTBEHOV I NÆR FRAMTIDDet som er helt sikkert, er at Norge går mot et underskudd på kraft. Det vil skje allerede om noen få år, når kraftbehovet øker mye hvert eneste år. I mange år har Norge hatt et stort kraftoverskudd. Det har gjort sitt til at man har kunnet styre dette på en god måte, og eksportert kraft i deler av året. Det har gjort sitt til at vi har opplevd stabile og forutsigbare priser. Den tiden er nok forbi, og vi må alle belage oss på vesentlig høyere priser i fremtiden. Energikommisjonen, som nylig la fram sin rapport, har beregnet et behov på 40 TWh innen 2030.\\n  For å forstå hva dette betyr i praksis, er det en økning på 20% over en 6 – 7 års periode. Det vil være krevende politisk og teknisk, å få gjennomført dette på så kort tid. Det er også mye gamle og dårlige ledningsnett rundt om i Norges land. Dette må også oppgraderes, for å kunne ta unna den varslede økningen over nettet. \\n  Alt dette bør være gode argumenter for å få opp utbyggingen av solceller. Ved å skape gode insentiver og støtteordninger, vil norske gårdbrukere i større grad ta risikoen ved å investere i egenproduksjon av kraft. Dette vil avlaste nettet, og kunne frigi kraft til andre formål. \\n  Det blir spennende å se om det blir kamp om pengene i den økte potten til Bionova på 50 mill pr år. I NLR har vi flere rådgivere som kan bistå med søknaden til Innovasjon Norge. Det er bare å ta kontakt om det skulle bli aktuelt.\\n  • Produksjonseffekten vil falle over år.\\n  • Strømprofil (behov) i sommerhalvåret\\n  • Tåler taket vekten av solceller og våt snø?\\n  • Behov for årlig vask? \\n  • Når må invertere og/eller andre komponenter byttes?\\n  • Kapitalbinding og nedbetalingstid\\n  • Hvilken vei tror man strømprisen tar.  ",
            "text/html": "<div>\n<style scoped>\n    .dataframe tbody tr th:only-of-type {\n        vertical-align: middle;\n    }\n\n    .dataframe tbody tr th {\n        vertical-align: top;\n    }\n\n    .dataframe thead th {\n        text-align: right;\n    }\n</style>\n<table border=\"1\" class=\"dataframe\">\n  <thead>\n    <tr style=\"text-align: right;\">\n      <th></th>\n      <th>title</th>\n      <th>text</th>\n    </tr>\n  </thead>\n  <tbody>\n    <tr>\n      <th>3</th>\n      <td>Bioenergi er lønnsomt</td>\n      <td>\\n  Det har vært skrevet metervis av artikler og fagskrifter om det grønne skifte. Alt er grønt, og et av de viktigste tiltakene for Norge skal komme fra den grønne skogen. Det er sant, men det skjer også i dag, halvparten av CO2 utslippet på fastlands Norge blir tatt opp av skogen. Videre mål blir å redusere CO2 utslippet. Den enkleste og mest lønnsomme måten man gjør det på er å velge bioenergi som oppvarmingskilde. Nå har alle gårdeiere i Sør-Norge mulighet til å få gratis befaring og hjelp til å se på mulighetene på egen gård.\\n  Eiere av landbrukseiendommer har et kjempefortrinn. De kan være selvforsynt med energi. En gård kan hente varmen fra bioenergi hentet i egen skog, og låvetaket er velegnet for solcellepaneler. Og med dette spare energikostnader. Du blir ikke lenger påvirket av høye nettleier eller høye strømpriser på gitte tider av døgnet. I snitt betaler du kanskje bare 50 øre/kWh for biovarme. Merkostnaden ved å bruke litt mer flis altså øke varmebehovet er ikke mer enn 25 øre/kWh. Jeg vil tro at de som krabber på gulvet eller går i gangen inne blir glad for en jevn varm temperatur i huset. Samtidig blir ikke virke med lav kommersiell verdi stående igjen etter en hogst, den blir brukt til varme på gården. Tilveksten øker, og verdien av skogen øker. Synergien av å øke varmen kan også gi økonomisk gevinst, tilveksten hos kylling og gris øker, veterinærkostnaden reduseres. Fòr kostnaden til kua går ned når drikkevannet varmes til 12-14 grader, da bruker kua ikke samme energi på å få opp kroppstemperaturen. Kanskje blir redskapen overhalt i et varmt verksted før våronna?\\n  Potensialet er stort for bioenergi. Du får til og med økonomisk støtte fra Innovasjon Norge, de kan bidra med hjelp, opptil en tredjedel av investeringskostnaden kan du få.\\n  Blir du fristet til spare penger? Lurer du på om det er lønnsomt for akkurat din gård?\\n  Prosjektleder for Bioenergiprosjektet, Kjetil Øi hjelper deg gjerne på veien mot en grønnere og varmere gård. Bioenergiprosjektet kan hjelpe deg med vurderingen. Jeg hjelper til med å beregne energibehov og effektbehov på din gård. Sammen ser vi på praktiske løsninger og sørger for at jobben blir lite arbeidskrevende i fremtiden. God planlegging er avgjørende for at du blir fornøyd. Videre ser vi lønnsomheten og jeg hjelper deg med å skrive søknad til Innovasjon Norge.\\n  Dette gratis tilbudet varer ut prosjektperioden som er i august. Så benytt sjansen nå.\\n  Bioenergiprosjektet er et samarbeidsprosjekt mellom fire fylker og er finansiert av Fylkesmannen i Aust- og Vest-Agder, Fylkesmannen i Telemark, Fylkesmannen i Vestfold, fylkeskommunene i Aust-Agder, Vest-Agder og Vestfold og Innovasjon Norge.\\n  Så ta kontakt med Kjetil Øi for en hyggelig prat. Prosjektleder bioenergi\\n  Fylkesmannen i Aust- og Vest-Agder, Landbruksavdelinga, fmavkoi@fylkesmannen.no\\n  Tlf 37 01 78 38 eller mob 97 13 01 19\\n  Artikkelen er skrevet av Kjetil Øi fra Fylkesmannen i Aust- og Vest Agder på oppdrag fra Norsk Landbruksrådgiving Agder.</td>\n    </tr>\n    <tr>\n      <th>4</th>\n      <td>Garden som energiprodusent?</td>\n      <td>\\n  Økonomi, høge energiprisar, klimakrise – det kan vere mange grunnar til at gardbrukarar vurderer å investere i bioenergi.\\n  Interessa for å produsere eigen energi er større enn nokon gong. Nokon går til og med så langt at dei ynskjer å vere såkalla off grid, dvs. ein bustad, eit gardsbruk eller ein livsstil der ein er sjølvforsynt. Gardsbruka har mange ressursar som kan nyttast til energiproduksjon, men kva høver for din gard?\\n  Frå solstrålar til straum\\n  Solcelleanlegg er ei lågthengande frukt dersom du ynskjer å produsere eigen straum. Det finst fleire nettstader der du skriv inn adressa di, og får berekna kva taka dine kan gje. Prøv for eksempel https://solkart.no/. Det er ikkje berre tak som egner seg til solceller; fasadar kan òg vere aktuelle. Straumbehovet er ofte ulikt gjennom døgeret, og det kan vere nyttig å få oversikt over korleis døgnvariasjonen er på din gard.\\n  I periodar med mykje lys, men lågt energiforbruk på garden, kan det hende du produserer meir straum enn du treng. Då vert overskotet av straum sendt ut på nettet. Prisen er den same som spotprisen på straum i den aktuelle timen.\\n  Kva er effekten og ytinga på solcellene? Effekten til straum målast i watt, medan effekten for solceller målast i wattpeak (wp). Med «peak» meinast den høgaste effekten ein kan oppnå under optimale tilhøve. 3 kWp tyder at eit solcelleanlegg med «full tilgjengeleg solkraft» kan levere opptil 3000 watt. Nyttar du til dømes eit mjølkeanlegg i ein båsfjøs kan det vere at dette treng 3000 watt (eller 3 kW). Vi har ikkje full solkraft heile tida. Det varierer med vèret og er ulikt mellom landsdelar. På Vestlandet opererer vi ofte med 650-700 kWh/kWp.\\n  Frå solstrålar til varmt vatn\\n  Solfangarar gjer om energien i solstrålane til varme. Dersom det er varmt vatn du treng så er det dette du skal investere i. Hugs at også her vert det produsert mest varmt vatn om sommaren då du kanskje har eit mindre oppvarmingsbehov.\\n  Eit solfangaranlegg består av solfangar, røyr akkumulatortank og styringssystem med pumpe. Som med solceller kan solfangarar integrerast i tak, fasadar eller på bakken/i skråningar.\\n  Biovarme = forbrenning av biomasse\\n  Biovarme er alle former for oppvarming som kjem av forbrenning av biomasse; det kan vere ved, flis, pellets eller anna. Å brenne biovarme er CO2-nøytralt. Forklaringa er at plantane har teke opp CO2 gjennom fotosyntesen og ved forbrenning vert den same mengda CO2 bli ført tilbake. Om du fangar og lagrar CO2 når du forbrenner, vil du fjerne CO2 frå atmosfæren. Biovarme vil avlaste straumnettet og dermed frigjere høgverdig elektrisitet til andre formål. Her vil samfunnet spare ved å sleppe å bygge ut straumnettet.\\n  Biokraft vil seie å lage straum av biomasse. Ein forbrenner biomassen, nyttar varmen til å koke vatn, for så å bruke dampen til å drive ein turbin som produserer elektrisitet.\\n  Storleiken på investeringa i eit biovarmeanlegg vil vere veldig forskjellig. Biovarmeanlegg kan vere alt frå ein vedomn til vasskappe til eit stort og automatisert flisfyringsanlegg. Kva har du av tilgjengeleg biomasse hjå deg? Kva oppvarmingsbehov har du? Har du kanskje allereie opplegg for vassboren varme?\\n  Biogass på min gard?\\n  Investering i biogassanlegg ligg i motsett ende i forhold til solceller når det gjeld omfang på forarbeid. I eit forprosjekt er det viktig å kartlegge til dømes lagring og logistikk av gjødsel, spreieareal, estimert gassproduksjon, vedlikehaldskostnader samt alle andre faktorar som er av betydning. Det er fleire ulike leverandørar og ein del av anlegga skil seg veldig frå kvarandre. Du kan søkje støtte til forprosjektering av biogassanlegg frå Innovasjon Norge.\\n  Tradisjonelle biogassanlegg krev ein viss mengde husdyrgjødsel og gjerne noko meir energirike substrat i tillegg for å få lønsemd. Mindre bruk kan gjerne gå saman om eit biogassanlegg eller dei kan levere husdyrgjødsel og ta i mot biorest til/frå større anlegg. Det kan òg hende at vi kan få biogassanlegg framover for mindre besetningar. Leverandørar for ein type anlegg i Noreg har sagt dei kan rekne det «heim» ned til 25 kyr. I den siste tida har det blitt starta opp fleire anlegg og fleire er under bygging. Det er viktig at vi får erfaringstal frå desse anlegga for å kunne gje gode svar til gardbrukarane.\\n  Biogass er ein rotneprosess som skjer utan luft. Husdyrgjødsel og evt. andre tilleggssubstrat vert pumpa inn og vi får ut gass (metan + CO2) og biorest som to sluttprodukt. Bioresten vil ofte ha betre eigenskapar som gjødsel samanlikna med husdyrgjødsel.\\n  Biogass er fornybar og klimanøytral fordi den allereie finnest i krinslaupet. Atmosfæren får ikkje tilført meir CO2 ved bruk enn ved naturleg nedbryting. Vert biogassen nytta som drivstoff vert utsleppet av CO2 redusert med 2,7 kg for kvar liter diesel ein byter ut. Oppgradering av gass til drivstoff krev ein viss mengde gass, og er per no ikkje aktuelt for gardsanlegg. På gards- og grendeanlegg vert gassen brent direkte for varmeproduksjon. Ein kan òg produsere straum frå biogass ved hjelp av ein gassturbin, men ein vil uansett få ut mesteparten av energien i gassen som varme.\\n  Kombinasjon av fleire energikjelder\\n  Solceller kan kombinerast med straum frå nettet eller for eksempel ved/flisfyring. Solceller om sommaren og vedkjel om vinteren? Straum frå solceller eller biogassanlegg kan kombinerast med varmepumpe for å få ut høgare effekt på oppvarming. Moglegheitene er mange, og du må finne det som er mest optimalt for din gard og ditt behov.\\n  Norsk landbruksrådgiving med rådgivingsteneste innanfor bioenergi\\n  Kva er ressursgrunnlaget for energiproduksjon på din gard? Har du skog? Har du takflater? Har du husdyrgjødsel? Treng du hjelp for å gjere ein avklaringsprosess? Treng du bistand til forprosjekt?\\n  NLR hjelper deg å ta kunnskapsbaserte val. Få svar av uavhengige rådgjevarar. Ta kontakt med oss! Fornybar energi | Norsk Landbruksrådgiving (nlr.no).</td>\n    </tr>\n    <tr>\n      <th>8</th>\n      <td>Biogassproduksjon på gården - den nye oljen?</td>\n      <td>\\n  Økte energipriser har økt interessen for biogass. Inntil nylig krevde anlegg for produksjon av biogass store volum av husdyrmøkk eller annet avfall. Nå kommer det mindre, rimeligere gårdsanlegg som kan gjøre biogassanlegg aktuelt for flere.\\n  Gårdsanlegg for produksjon av biogass har vært i markedet i vel 15 år, men frem til nylig har det blitt installert svært få anlegg. De siste årene har det skjedd flere ting som gjør slike anlegg mye mer interessante enn de har vært. Gjennom tilskuddsordningen for fornybar energi, kan Innovasjon Norge nå gi 45 prosent investeringstilskudd for biogassanlegg. I tillegg har det kommet tilskudd for å levere husdyrgjødsel til biogassanlegg.\\n  Energipriser påvirker\\n  En annen viktig faktor til interessen, er nok de høye energiprisene vi nå opplever. Mange forventer at strømprisen ikke vil komme ned på de lave nivåene vi har hatt historisk. Med en strømgenerator kan gården bli mer eller mindre selvforsynt med strøm gjennom hele året. Den aller største interessen for biogass virker å være på Vestlandet og nordover. I Rogaland er det håp om at slike anlegg kan bidra til å løse problemer med overskudd av fosfor. Lenger nord betaler oppdrettsnæringen godt for å levere avfall til biogassanleggene. Samtidig foregår det en rivende utvikling innen reaktorteknologi. Nyutviklede, kompakte anlegg tilpasset normale norske bruksstørrelser er på vei. Og enkelte aktører satser nå hardt på salg og markedsføring av gårdsanlegg.\\n  Hvordan virker det?\\n  Kort fortalt er et biogassanlegg en mekanisk etterligning av en kumage. Reaktoren er en tank uten tilgang på oksygen, hvor anaerobe bakterier spiser organisk materiale og slipper ut metan og CO2. Tradisjonelle anlegg har store, isolerte betongtanker med røreverk. Nyere varianter har mer kompakte flerkammersystemer. Målet er å få størst mulig overflate for bakteriene å vokse på. I tillegg til selve reaktoren trengs det en forbehandlingstank hvor møkk og annet organisk avfall males opp, blandes og pumpes inn i reaktoren. Når prosessen i reaktoren er ferdig, typisk etter et par uker, pumpes det som nå har blitt biorest over i et sluttlager.\\n  Tilgang på råstoff\\n  Gårdsbiogassanlegg baseres som regel på behandling av flytende ku- eller grisemøkk. I tillegg tar noen imot fjørfegjødsel, matavfall, fiskeavfall eller annet næringsrikt organisk avfall. Slikt avfall er gjerne tørrere og har derfor langt større gasspotensiale per tonn enn husdyrgjødsel. Type avfall vil med andre ord ha mye å si for hvor mye gass anlegget kan produsere.\\n  Behov for mye varme?\\n  Den mest effektive utnyttelsen av gassen som produseres har vi ved direkte oppvarming. Men man er avhengig av et betydelig varmebehov for å utnytte all varmen fra et typisk gårdsanlegg. De fleste gårdsanlegg planlegges derfor med en gassdrevet strømgenerator, såkalt «CHP»- Combined heat and power. Denne omgjør 30-40 prosent av gassen til elektrisitet, som kan brukes på gården eller selges på nettet. Men 60-70 prosent av gassen må fortsatt gå til direkte oppvarming, også i sommerhalvåret. Det kan være aktuelt å grave gassrør til naboer med større varmebehov, men dette blir fort kostbart. For et gjennomsnittlig norsk husdyrbruksbruk trengs det derfor mindre, rimeligere anlegg, hvor gassproduksjonen står bedre i stil til varmebehovet.\\n  Nabosamarbeid\\n  Samarbeid mellom flere bønder kan gi større tilgang på gjødsel og kanskje bedre utnyttelse av produsert varme om det er kort avstand. Utnyttelsen av bioresten kan også bli bedre om flere bønder samarbeider. Det er flere måter å organisere et slikt samarbeid, fra avtale om mottak av biorest eller levering av møkk til at anlegget bygges med felles kapital.\\n  Lønnsomhet\\n  En skal være forsiktig med å spå noe om lønnsomheten i energiproduksjon. Den voldsomme økningen i strømpris fra høsten 2021 har gjort regnestykkene langt bedre for alle prosjekter, spørsmålet er hvilket nivå vi vil se på lengre sikt. Uansett energipris vil tilskudd være en betydelig del av inntekten på et gårdsanlegg. Investeringsstøtten fra Innovasjon Norge ligger på 45 prosent inntil 8 millioner. I tillegg gis det nå årlig tilskudd for levering av husdyrgjødsel til biogassanlegg. Generelt kan vi si at gårdsbiogass er mer lønnsomt nå enn tidligere, men en er avhengig av å få tilskudd til investeringen og at tilskuddsordningen for levering av gjødsel vedvarer i mange år framover.\\n  Vi hjelper deg\\n  NLR har etablert to rådgivingsteam som kan bistå deg dersom du ønsker hjelp med avklaring eller planlegging av anlegg for fornybar energi. Teamene dekker hele landet. Team biogass kan treffes på telefon 414 48 779.</td>\n    </tr>\n    <tr>\n      <th>2</th>\n      <td>Høgaktuelt med energiproduksjon på garden</td>\n      <td>\\n  Høye energipriser gjør det aktuelt for bønder å produsere mer av sin egen energi enten i form av elektrisitet og/eller varme. Energiproduksjon for salg også aktuelt. \\n  De fleste tiltak er søknadspliktige. NLR har landsdekkende rådgivere som kan bistå med rådgiving, søknad om tilskudd, byggesøknad osv.\\n  Les meir om tenesta vår på området:\\n  Fornybar energi\\n  Solceller på tak er en effektiv måte å produsere egen strøm uten mye ettersyn og vedlikehold. Hos Innovasjon Norge vektlegges og prioriteres anlegg som har et betydelig forbruk i næring der landbruksvirksomheten er viktig for sysselsetting på gården. Det gis ikke støtte til mindre anlegg og anleggene må ha tilstrekkelig lønnsomhet etter investering. Egne regler for veksthus.\\n  Enova gir støtte til mindre private anlegg.\\n  En av ulempene med solceller at de produserer normalt lite av årsproduksjonen i perioden november – februar. Belegg fra støv fra ventilasjon fra gris og fjørfe kan også være en utfordring i forhold til virkningsgrad.\\n  Forventet levetid + 30år.\\n  Vindkraft tilpasset energibehovet til gården begynner å bli et lønnsomt alternativ. Men her er regelverk og støtteordninger ikke på plass. I Time kommune. Rogaland, er det gitt dispensasjon* for å sette opp 1 stk 26 meter høy gårdsvindmølle med ytelse 25kW og årsproduksjon 70 000 – 110 000 kW årlig. *Skal behandles i Rogaland fylkeskommune.\\n  Enova gir støtte til små private vindturbiner, men er lite aktuelt for landbruk. \\n  Vindturbiner tilpasset gårdsnivå har ikke støtteordning foreløpig.\\n  Ulempene med vindkraft er ca 35% produksjon i forhold til installert effekt, samt støy og det visuelle med tanke på naboer. Ikke alle områder at netteier har kapasitet på nett, trafo o.l. til å ta imot overskuddsproduksjon.\\n  Forventet levetid 20-30 år.\\n  Prisnivå: fra kr 1,3 millioner + mva\\n  I landbruk vil luft-luft fungere dårlig pga mye støv og gasser i husdyrrom. Det gis heller ikke støtte til luft-luft eller luft-vann løsninger til næring. Noen kommuner gir nå støtte til installasjon av luft-luft varmepumpe til bolig som et ekstraordinært tiltak (sjekk med din kommune).\\n  Større luft-vann varmepumper er det rimeligste alternativet og fungerer godt langs sør- og vestlandskysten, også om vinteren. Luft-vann varmepumper kan leveres som lavtemperatur (maks 50 oC) og høytemperatur (maks 80 oC), eller som begge deler. Vedlikeholdsbehovet er lavt ved varmepumpeløsning.\\n  Prisnivå: fra kr 150 000,-\\n  Væske-vann varmepumpe kan også være en god løsning ved bruk av vannbåren varme, spesielt i områder med mye lave temperaturer i vinterhalvåret.\\n  Innovasjon Norge: det gis støtte til væske-vann varmepumper som skal levere energi til næring alene eller sammen med leveranse til boliger. Det er en forutsetting av det monteres energimåler og at eiendommen kan dokumentere avgiftspliktig omsetning.\\n  Anleggene må ha tilstrekkelig lønnsomhet etter investering. Behovet for energi må dokumenteres.\\n  Med væske-vann menes nedgravd kollektorslange i jord, kollektorslange i vann/sjø eller kollektorslange i borehull. \\n  Enova\\n  gir inntil 10 000 kr i støtte til væske-vann varmepumpe til bolig.\\n  Forventet levetid væske-vann varmepumpe 10 – 20 år. Etanol eller glykol blir mye brukt som energibærer i kollektorslange.\\n  Kollektorslange nedgravd på ca 1 meter i jord fungerer best i område uten tung trafikk, f.eks. hage.\\n  Kollektorslange i vann/sjø krever nærhet til vann/sjø. I sjø kan «groe» som isolerer kollektorslange være et problem \\n  Borehull (energibrønn) vil kunne brukes for uttak av energi i +100 år. Det mest negative med borehulls-løsning er høy investeringskostnad. Borehull er også dårlig løsning i løse grunnmasser.\\n  Prisnivå: fra kr 200 000,- + borehull\\n  Ved/flisfyr er et godt varmealternativ i områder med god tilgang på trevirke. Akkumulatortank (godt isolert stor vannbeholder) kreves for å få jevn belastning av fyren. \\n  Eksempel på løsning kan være å støpe dekke i betongsilo som er ute av bruk og dermed få brannsikkert fyrrom under. Dekket over kan brukes til vedlager eller flismagasin.\\n  Pellets fylles på i magasin og mates inn i en fyrkjel som tilpasser forbrenningen etter behovet i varmemagasinet. Pelletsfyring er en automatisert løsning som krever lite tilsyn, men noe manuell håndtering av pellets.\\n  Kjøp av pellets gir relativt høy kWh-pris\\n  Prisnivå: fra 35 000,- \\n  Varmesystem med manuelt innlegg av ved 0,5 - 2 ganger / døgn. Fyren varmer opp stort varmemagasin der varme til f.eks. bolig hentes fra. \\n  Krever mye manuell håndtering av ved til faste tider, men gir lav kWh-pris ved høy egeninnsats i vedproduksjonen.\\n  Prisnivå: fra kr 75 000,- \\n  Hele tømmerstokker tørkes og flises opp med stor flisekutter. Flis fylles på i magasin med bunnuttak. Flisen skrues inn i en fyrkjel som tilpasser forbrenningen etter behovet i varmemagasinet. Flisfyring er en automatisert løsning som krever lite tilsyn / manuell håndtering.\\n  Store flisfyringsanlegg egner seg også godt til salg av varme.\\n  Innovasjon Norge gir støtte til anlegg basert på biovarme.\\n  Enova gir ikke støtte til biovarme på landbrukseiendom\\n  Prisnivå: fra kr 300 000,-\\n  Solfanger er lite aktuelt i landbruk på våre breddegrader dersom varmebehovet ikke er stort på sommeren. Lav effekt i vinterhalvåret.\\n  Blanding av husdyrgjødsel, matavfall og annet organisk avfall pumpes inn i en tett råtnetank hvor anaerobe mikroorganismer bryter ned og produserer gasser som i hovedsak består av metan og CO2. Denne gassmiksen kaller vi biogass. Det bør være tilgang til minst 4000 m3 husdyrgjødsel i tillegg til andre substrater for å få lønnsomhet ut av et biogassanlegg.\\n  Biogassen kan brennes direkte for varmeproduksjon. I stasjonære motorer eller gassturbiner kan gassen brukes til elektrisitet- og varmeproduksjon. Ca 1/3 blir elektrisitet og ca 2/3 blir til varme.\\n  Biogassen kan også oppgraderes til ren metangass og brukes til drivstoff.\\n  Innholdet i råtnetanken etter uttak av biogass kalles for biorest, og er en homogen blanding som kan brukes som gjødsel.\\n  1 m3 biogass gir 6,2 kWh\\n  Innovasjon Norge støtter biogassprosjekt i landbruket.\\n  Prisnivå: fra kr 4 millioner .</td>\n    </tr>\n    <tr>\n      <th>7</th>\n      <td>Status solceller: Er det fortsatt lurt?</td>\n      <td>\\n  Svaret er ja. Vi mener det fortsatt er lurt å investere, om man har et visst forbruk på gården i sommerhalvåret. Det er på den tiden av året hvor det produseres mest kraft fra solcellene.\\n  Artikkelen sto første gang på trykk i Grønt i Fokus nr. 2-2023\\n  Hvem det er lurt for, er et litt mer komplisert spørsmål, og vanskelig å gi et generelt, godt svar på. Svaret er nok ofte de gårdbrukerne som er i posisjon til å få tildelt investeringsstøtte fra Innovasjon Norge, hvor støtten ofte utgjør 20-35 % av den totale investeringen. \\n  KRAV OG KRITERIER FOR STØTTE\\n  Ordning med tilskudd til solcelleanlegg ble etablert i 2017 gjennom «Bioenergiprogrammet», som nå heter «Verdiskapningsprogrammet for klimatiltak i landbruket». De første årene var det krav om at det var etablert et biofyringsanlegg på gården. Fra og med 2020 ble det gitt mulighet for frittstående solcelleanlegg, uavhengig av om det var biofyringsanlegg på gården fra før. \\n  Det stilles krav til en selvstendig lønnsomhet for solcelleanlegget. I henhold til Innovasjon Norges retningslinjer legges det til grunn en internrente på minimum 4 % før tilskudd fra Innovasjon Norge. Investeringsstøtte kan ytes med inntil 35 % av godkjente kostnader, normalt har støtte ligget på 20-25 % for både 2021 og 2022. Maks internrente har ligget på inntil 8 %. Lønnsomhetsberegning skjer automatisk i søknadsmalen.\\n  Levetiden på solcellene er basert på 25 år, selv om det fortsatt kan produseres strøm etter dette. Det beregnes et effekttap, og normalt vil tapet være 15-20 % i levetiden. Innovasjon Norge legger ofte til grunn en gjennomsnittlig produksjon på ca. 90 %. Dette er nok et konservativt anslag, og vi tror det ville høyere enn 90% etter 25 år. De siste 20 år har gjennomsnittlig årlig strømpris ligget på ca. 30 øre, noe lavere i sommerhalvåret. Det kan nevnes at i juli 2020 lå strømprisen på Østlandet på 1,5 øre pr. kwt, mot 57,5 øre juli 2021. I Tromsø var tilsvarende priser på 2,9 øre og 22,8 øre.\\n  LØNNSOMT ELLER IKKENVE utgir årlige fremtidsanalyser med hva de tror om kraftprisene fremover. I analysen fra 2020 ligger NVEs kraftprisbane mellom 25 og 48 øre/kWh for år 2040, avhengig av hvilke forutsetninger på brensels- og CO2-priser som legges til grunn.\\n  I rapporten fra 2021 ligger prisen høyere, i området 38- 63 øre, med størst sannsynlighet i området 50 øre for en gjennomsnittlig kraftpris i Norge. For ordens skyld nevnes at nettleie, elavgift og mva. kommer i tillegg. Innovasjon Norge har lagt til grunn en samlet energipris til eget bruk (inklusive energiledd, elavgift og nettleie) på 80 – 100 øre pr. kwh eks. mva. i sine beregninger.\\n  I takt med prisøkningen på elektrisk kraft, har riktignok kravene blitt tøffere for de som får tildelt støtte. Dette henger sammen med at prosjektene blir mer lønnsomme, jo høyere kraftprisen er. Er prosjektet lønnsomt uten støtte, kan man risikere å få avslag på søknaden om tilskudd. Dette står klart og tydelige i INs mandat, så det er vanskelig å argumentere imot dette. IN skal hovedsakelig støtte ulønnsomme prosjekter, slik at de ved hjelp av støtteordningen blir lønnsomme nok til at de gjennomføres.\\n  PROSJEKT MED KLIMA- OG MILJØEFFEKTBionova ble etablert 1 januar 2023 som en egen enhet, organisert under Innovasjon Norge. Bionova vil få ansvaret for forvaltningen av «verdiskapningsprogrammet for fornybar energi og teknologi i landbruket». Pengepotten har økt fra 112 millioner i 2022 til 162 millioner i 2023. Vi ser av grafen at det er flest innvilgede søknader i Innlandet, mens summen i kroner er størst i Viken. Kravene som Bionova stiller til norske bønder er at prosjektet skal være lønnsomt. Det blir også vektlagt gårdens økonomiske gjennomføringsevne, samt at prosjektet har en viss klima- og miljøeffekt. Et anlegg må ha god sammenheng mellom behovet for energi, og de ressursene som er tilgjengelige på gården. Alle søknader behandles individuelt, og det er alltid lurt å være tidlig ute med søknaden i begynnelsen av året.\\n  ØKT KRAFTBEHOV I NÆR FRAMTIDDet som er helt sikkert, er at Norge går mot et underskudd på kraft. Det vil skje allerede om noen få år, når kraftbehovet øker mye hvert eneste år. I mange år har Norge hatt et stort kraftoverskudd. Det har gjort sitt til at man har kunnet styre dette på en god måte, og eksportert kraft i deler av året. Det har gjort sitt til at vi har opplevd stabile og forutsigbare priser. Den tiden er nok forbi, og vi må alle belage oss på vesentlig høyere priser i fremtiden. Energikommisjonen, som nylig la fram sin rapport, har beregnet et behov på 40 TWh innen 2030.\\n  For å forstå hva dette betyr i praksis, er det en økning på 20% over en 6 – 7 års periode. Det vil være krevende politisk og teknisk, å få gjennomført dette på så kort tid. Det er også mye gamle og dårlige ledningsnett rundt om i Norges land. Dette må også oppgraderes, for å kunne ta unna den varslede økningen over nettet. \\n  Alt dette bør være gode argumenter for å få opp utbyggingen av solceller. Ved å skape gode insentiver og støtteordninger, vil norske gårdbrukere i større grad ta risikoen ved å investere i egenproduksjon av kraft. Dette vil avlaste nettet, og kunne frigi kraft til andre formål. \\n  Det blir spennende å se om det blir kamp om pengene i den økte potten til Bionova på 50 mill pr år. I NLR har vi flere rådgivere som kan bistå med søknaden til Innovasjon Norge. Det er bare å ta kontakt om det skulle bli aktuelt.\\n  • Produksjonseffekten vil falle over år.\\n  • Strømprofil (behov) i sommerhalvåret\\n  • Tåler taket vekten av solceller og våt snø?\\n  • Behov for årlig vask? \\n  • Når må invertere og/eller andre komponenter byttes?\\n  • Kapitalbinding og nedbetalingstid\\n  • Hvilken vei tror man strømprisen tar.</td>\n    </tr>\n  </tbody>\n</table>\n</div>"
          },
          "metadata": {}
        }
      ],
      "execution_count": null
    },
    {
      "cell_type": "markdown",
      "source": [
        "Create context"
      ],
      "metadata": {
        "id": "RNJMwiUiV61B"
      }
    },
    {
      "cell_type": "code",
      "source": [
        "context = text_combined_embeddings_df['text'].iloc[0] + '\\n' + text_combined_embeddings_df['text'].iloc[1] + '\\n' + text_combined_embeddings_df['text'].iloc[2] + '\\n' + text_combined_embeddings_df['text'].iloc[3] + '\\n'\n",
        "context"
      ],
      "metadata": {
        "trusted": true,
        "execution": {
          "iopub.status.busy": "2025-01-06T19:02:06.360421Z",
          "iopub.execute_input": "2025-01-06T19:02:06.360741Z",
          "iopub.status.idle": "2025-01-06T19:02:06.375957Z",
          "shell.execute_reply.started": "2025-01-06T19:02:06.360713Z",
          "shell.execute_reply": "2025-01-06T19:02:06.374789Z"
        },
        "id": "DRxOYkboV61C",
        "outputId": "e564f9ce-0900-4284-e6ba-c36c8ea9eba7"
      },
      "outputs": [
        {
          "execution_count": 156,
          "output_type": "execute_result",
          "data": {
            "text/plain": "'\\n  Det har vært skrevet metervis av artikler og fagskrifter om det grønne skifte. Alt er grønt, og et av de viktigste tiltakene for Norge skal komme fra den grønne skogen. Det er sant, men det skjer også i dag, halvparten av CO2 utslippet på fastlands Norge blir tatt opp av skogen. Videre mål blir å redusere CO2 utslippet. Den enkleste og mest lønnsomme måten man gjør det på er å velge bioenergi som oppvarmingskilde. Nå har alle gårdeiere i Sør-Norge mulighet til å få gratis befaring og hjelp til å se på mulighetene på egen gård.\\n  Eiere av landbrukseiendommer har et kjempefortrinn. De kan være selvforsynt med energi. En gård kan hente varmen fra bioenergi hentet i egen skog, og låvetaket er velegnet for solcellepaneler. Og med dette spare energikostnader. Du blir ikke lenger påvirket av høye nettleier eller høye strømpriser på gitte tider av døgnet. I snitt betaler du kanskje bare 50 øre/kWh for biovarme. Merkostnaden ved å bruke litt mer flis altså øke varmebehovet er ikke mer enn 25 øre/kWh. Jeg vil tro at de som krabber på gulvet eller går i gangen inne blir glad for en jevn varm temperatur i huset. Samtidig blir ikke virke med lav kommersiell verdi stående igjen etter en hogst, den blir brukt til varme på gården. Tilveksten øker, og verdien av skogen øker. Synergien av å øke varmen kan også gi økonomisk gevinst, tilveksten hos kylling og gris øker, veterinærkostnaden reduseres. Fòr kostnaden til kua går ned når drikkevannet varmes til 12-14 grader, da bruker kua ikke samme energi på å få opp kroppstemperaturen. Kanskje blir redskapen overhalt i et varmt verksted før våronna?\\n  Potensialet er stort for bioenergi. Du får til og med økonomisk støtte fra Innovasjon Norge, de kan bidra med hjelp, opptil en tredjedel av investeringskostnaden kan du få.\\n  Blir du fristet til spare penger? Lurer du på om det er lønnsomt for akkurat din gård?\\n  Prosjektleder for Bioenergiprosjektet, Kjetil Øi hjelper deg gjerne på veien mot en grønnere og varmere gård. Bioenergiprosjektet kan hjelpe deg med vurderingen. Jeg hjelper til med å beregne energibehov og effektbehov på din gård. Sammen ser vi på praktiske løsninger og sørger for at jobben blir lite arbeidskrevende i fremtiden. God planlegging er avgjørende for at du blir fornøyd. Videre ser vi lønnsomheten og jeg hjelper deg med å skrive søknad til Innovasjon Norge.\\n  Dette gratis tilbudet varer ut prosjektperioden som er i august. Så benytt sjansen nå.\\n  Bioenergiprosjektet er et samarbeidsprosjekt mellom fire fylker og er finansiert av Fylkesmannen i Aust- og Vest-Agder, Fylkesmannen i Telemark, Fylkesmannen i Vestfold, fylkeskommunene i Aust-Agder, Vest-Agder og Vestfold og Innovasjon Norge.\\n  Så ta kontakt med Kjetil Øi for en hyggelig prat. Prosjektleder bioenergi\\n  Fylkesmannen i Aust- og Vest-Agder, Landbruksavdelinga, fmavkoi@fylkesmannen.no\\n  Tlf 37 01 78 38 eller mob 97 13 01 19\\n  Artikkelen er skrevet av Kjetil Øi fra Fylkesmannen i Aust- og Vest Agder på oppdrag fra Norsk Landbruksrådgiving Agder.\\n\\n  Økonomi, høge energiprisar, klimakrise – det kan vere mange grunnar til at gardbrukarar vurderer å investere i bioenergi.\\n  Interessa for å produsere eigen energi er større enn nokon gong. Nokon går til og med så langt at dei ynskjer å vere såkalla off grid, dvs. ein bustad, eit gardsbruk eller ein livsstil der ein er sjølvforsynt. Gardsbruka har mange ressursar som kan nyttast til energiproduksjon, men kva høver for din gard?\\n  Frå solstrålar til straum\\n  Solcelleanlegg er ei lågthengande frukt dersom du ynskjer å produsere eigen straum. Det finst fleire nettstader der du skriv inn adressa di, og får berekna kva taka dine kan gje. Prøv for eksempel https://solkart.no/. Det er ikkje berre tak som egner seg til solceller; fasadar kan òg vere aktuelle. Straumbehovet er ofte ulikt gjennom døgeret, og det kan vere nyttig å få oversikt over korleis døgnvariasjonen er på din gard.\\n  I periodar med mykje lys, men lågt energiforbruk på garden, kan det hende du produserer meir straum enn du treng. Då vert overskotet av straum sendt ut på nettet. Prisen er den same som spotprisen på straum i den aktuelle timen.\\n  Kva er effekten og ytinga på solcellene? Effekten til straum målast i watt, medan effekten for solceller målast i wattpeak (wp). Med «peak» meinast den høgaste effekten ein kan oppnå under optimale tilhøve. 3 kWp tyder at eit solcelleanlegg med «full tilgjengeleg solkraft» kan levere opptil 3000 watt. Nyttar du til dømes eit mjølkeanlegg i ein båsfjøs kan det vere at dette treng 3000 watt (eller 3 kW). Vi har ikkje full solkraft heile tida. Det varierer med vèret og er ulikt mellom landsdelar. På Vestlandet opererer vi ofte med 650-700 kWh/kWp.\\n  Frå solstrålar til varmt vatn\\n  Solfangarar gjer om energien i solstrålane til varme. Dersom det er varmt vatn du treng så er det dette du skal investere i. Hugs at også her vert det produsert mest varmt vatn om sommaren då du kanskje har eit mindre oppvarmingsbehov.\\n  Eit solfangaranlegg består av solfangar, røyr akkumulatortank og styringssystem med pumpe. Som med solceller kan solfangarar integrerast i tak, fasadar eller på bakken/i skråningar.\\n  Biovarme = forbrenning av biomasse\\n  Biovarme er alle former for oppvarming som kjem av forbrenning av biomasse; det kan vere ved, flis, pellets eller anna. Å brenne biovarme er CO2-nøytralt. Forklaringa er at plantane har teke opp CO2 gjennom fotosyntesen og ved forbrenning vert den same mengda CO2 bli ført tilbake. Om du fangar og lagrar CO2 når du forbrenner, vil du fjerne CO2 frå atmosfæren. Biovarme vil avlaste straumnettet og dermed frigjere høgverdig elektrisitet til andre formål. Her vil samfunnet spare ved å sleppe å bygge ut straumnettet.\\n  Biokraft vil seie å lage straum av biomasse. Ein forbrenner biomassen, nyttar varmen til å koke vatn, for så å bruke dampen til å drive ein turbin som produserer elektrisitet.\\n  Storleiken på investeringa i eit biovarmeanlegg vil vere veldig forskjellig. Biovarmeanlegg kan vere alt frå ein vedomn til vasskappe til eit stort og automatisert flisfyringsanlegg. Kva har du av tilgjengeleg biomasse hjå deg? Kva oppvarmingsbehov har du? Har du kanskje allereie opplegg for vassboren varme?\\n  Biogass på min gard?\\n  Investering i biogassanlegg ligg i motsett ende i forhold til solceller når det gjeld omfang på forarbeid. I eit forprosjekt er det viktig å kartlegge til dømes lagring og logistikk av gjødsel, spreieareal, estimert gassproduksjon, vedlikehaldskostnader samt alle andre faktorar som er av betydning. Det er fleire ulike leverandørar og ein del av anlegga skil seg veldig frå kvarandre. Du kan søkje støtte til forprosjektering av biogassanlegg frå Innovasjon Norge.\\n  Tradisjonelle biogassanlegg krev ein viss mengde husdyrgjødsel og gjerne noko meir energirike substrat i tillegg for å få lønsemd. Mindre bruk kan gjerne gå saman om eit biogassanlegg eller dei kan levere husdyrgjødsel og ta i mot biorest til/frå større anlegg. Det kan òg hende at vi kan få biogassanlegg framover for mindre besetningar. Leverandørar for ein type anlegg i Noreg har sagt dei kan rekne det «heim» ned til 25 kyr. I den siste tida har det blitt starta opp fleire anlegg og fleire er under bygging. Det er viktig at vi får erfaringstal frå desse anlegga for å kunne gje gode svar til gardbrukarane.\\n  Biogass er ein rotneprosess som skjer utan luft. Husdyrgjødsel og evt. andre tilleggssubstrat vert pumpa inn og vi får ut gass (metan + CO2) og biorest som to sluttprodukt. Bioresten vil ofte ha betre eigenskapar som gjødsel samanlikna med husdyrgjødsel.\\n  Biogass er fornybar og klimanøytral fordi den allereie finnest i krinslaupet. Atmosfæren får ikkje tilført meir CO2 ved bruk enn ved naturleg nedbryting. Vert biogassen nytta som drivstoff vert utsleppet av CO2 redusert med 2,7 kg for kvar liter diesel ein byter ut. Oppgradering av gass til drivstoff krev ein viss mengde gass, og er per no ikkje aktuelt for gardsanlegg. På gards- og grendeanlegg vert gassen brent direkte for varmeproduksjon. Ein kan òg produsere straum frå biogass ved hjelp av ein gassturbin, men ein vil uansett få ut mesteparten av energien i gassen som varme.\\n  Kombinasjon av fleire energikjelder\\n  Solceller kan kombinerast med straum frå nettet eller for eksempel ved/flisfyring. Solceller om sommaren og vedkjel om vinteren? Straum frå solceller eller biogassanlegg kan kombinerast med varmepumpe for å få ut høgare effekt på oppvarming. Moglegheitene er mange, og du må finne det som er mest optimalt for din gard og ditt behov.\\n  Norsk landbruksrådgiving med rådgivingsteneste innanfor bioenergi\\n  Kva er ressursgrunnlaget for energiproduksjon på din gard? Har du skog? Har du takflater? Har du husdyrgjødsel? Treng du hjelp for å gjere ein avklaringsprosess? Treng du bistand til forprosjekt?\\n  NLR hjelper deg å ta kunnskapsbaserte val. Få svar av uavhengige rådgjevarar. Ta kontakt med oss! Fornybar energi | Norsk Landbruksrådgiving (nlr.no).\\n\\n  Økte energipriser har økt interessen for biogass. Inntil nylig krevde anlegg for produksjon av biogass store volum av husdyrmøkk eller annet avfall. Nå kommer det mindre, rimeligere gårdsanlegg som kan gjøre biogassanlegg aktuelt for flere.\\n  Gårdsanlegg for produksjon av biogass har vært i markedet i vel 15 år, men frem til nylig har det blitt installert svært få anlegg. De siste årene har det skjedd flere ting som gjør slike anlegg mye mer interessante enn de har vært. Gjennom tilskuddsordningen for fornybar energi, kan Innovasjon Norge nå gi 45 prosent investeringstilskudd for biogassanlegg. I tillegg har det kommet tilskudd for å levere husdyrgjødsel til biogassanlegg.\\n  Energipriser påvirker\\n  En annen viktig faktor til interessen, er nok de høye energiprisene vi nå opplever. Mange forventer at strømprisen ikke vil komme ned på de lave nivåene vi har hatt historisk. Med en strømgenerator kan gården bli mer eller mindre selvforsynt med strøm gjennom hele året. Den aller største interessen for biogass virker å være på Vestlandet og nordover. I Rogaland er det håp om at slike anlegg kan bidra til å løse problemer med overskudd av fosfor. Lenger nord betaler oppdrettsnæringen godt for å levere avfall til biogassanleggene. Samtidig foregår det en rivende utvikling innen reaktorteknologi. Nyutviklede, kompakte anlegg tilpasset normale norske bruksstørrelser er på vei. Og enkelte aktører satser nå hardt på salg og markedsføring av gårdsanlegg.\\n  Hvordan virker det?\\n  Kort fortalt er et biogassanlegg en mekanisk etterligning av en kumage. Reaktoren er en tank uten tilgang på oksygen, hvor anaerobe bakterier spiser organisk materiale og slipper ut metan og CO2. Tradisjonelle anlegg har store, isolerte betongtanker med røreverk. Nyere varianter har mer kompakte flerkammersystemer. Målet er å få størst mulig overflate for bakteriene å vokse på. I tillegg til selve reaktoren trengs det en forbehandlingstank hvor møkk og annet organisk avfall males opp, blandes og pumpes inn i reaktoren. Når prosessen i reaktoren er ferdig, typisk etter et par uker, pumpes det som nå har blitt biorest over i et sluttlager.\\n  Tilgang på råstoff\\n  Gårdsbiogassanlegg baseres som regel på behandling av flytende ku- eller grisemøkk. I tillegg tar noen imot fjørfegjødsel, matavfall, fiskeavfall eller annet næringsrikt organisk avfall. Slikt avfall er gjerne tørrere og har derfor langt større gasspotensiale per tonn enn husdyrgjødsel. Type avfall vil med andre ord ha mye å si for hvor mye gass anlegget kan produsere.\\n  Behov for mye varme?\\n  Den mest effektive utnyttelsen av gassen som produseres har vi ved direkte oppvarming. Men man er avhengig av et betydelig varmebehov for å utnytte all varmen fra et typisk gårdsanlegg. De fleste gårdsanlegg planlegges derfor med en gassdrevet strømgenerator, såkalt «CHP»- Combined heat and power. Denne omgjør 30-40 prosent av gassen til elektrisitet, som kan brukes på gården eller selges på nettet. Men 60-70 prosent av gassen må fortsatt gå til direkte oppvarming, også i sommerhalvåret. Det kan være aktuelt å grave gassrør til naboer med større varmebehov, men dette blir fort kostbart. For et gjennomsnittlig norsk husdyrbruksbruk trengs det derfor mindre, rimeligere anlegg, hvor gassproduksjonen står bedre i stil til varmebehovet.\\n  Nabosamarbeid\\n  Samarbeid mellom flere bønder kan gi større tilgang på gjødsel og kanskje bedre utnyttelse av produsert varme om det er kort avstand. Utnyttelsen av bioresten kan også bli bedre om flere bønder samarbeider. Det er flere måter å organisere et slikt samarbeid, fra avtale om mottak av biorest eller levering av møkk til at anlegget bygges med felles kapital.\\n  Lønnsomhet\\n  En skal være forsiktig med å spå noe om lønnsomheten i energiproduksjon. Den voldsomme økningen i strømpris fra høsten 2021 har gjort regnestykkene langt bedre for alle prosjekter, spørsmålet er hvilket nivå vi vil se på lengre sikt. Uansett energipris vil tilskudd være en betydelig del av inntekten på et gårdsanlegg. Investeringsstøtten fra Innovasjon Norge ligger på 45 prosent inntil 8 millioner. I tillegg gis det nå årlig tilskudd for levering av husdyrgjødsel til biogassanlegg. Generelt kan vi si at gårdsbiogass er mer lønnsomt nå enn tidligere, men en er avhengig av å få tilskudd til investeringen og at tilskuddsordningen for levering av gjødsel vedvarer i mange år framover.\\n  Vi hjelper deg\\n  NLR har etablert to rådgivingsteam som kan bistå deg dersom du ønsker hjelp med avklaring eller planlegging av anlegg for fornybar energi. Teamene dekker hele landet. Team biogass kan treffes på telefon 414 48 779.\\n\\n  Høye energipriser gjør det aktuelt for bønder å produsere mer av sin egen energi enten i form av elektrisitet og/eller varme. Energiproduksjon for salg også aktuelt. \\n  De fleste tiltak er søknadspliktige. NLR har landsdekkende rådgivere som kan bistå med rådgiving, søknad om tilskudd, byggesøknad osv.\\n  Les meir om tenesta vår på området:\\n  Fornybar energi\\n  Solceller på tak er en effektiv måte å produsere egen strøm uten mye ettersyn og vedlikehold. Hos Innovasjon Norge vektlegges og prioriteres anlegg som har et betydelig forbruk i næring der landbruksvirksomheten er viktig for sysselsetting på gården. Det gis ikke støtte til mindre anlegg og anleggene må ha tilstrekkelig lønnsomhet etter investering. Egne regler for veksthus.\\n  Enova gir støtte til mindre private anlegg.\\n  En av ulempene med solceller at de produserer normalt lite av årsproduksjonen i perioden november – februar. Belegg fra støv fra ventilasjon fra gris og fjørfe kan også være en utfordring i forhold til virkningsgrad.\\n  Forventet levetid + 30år.\\n  Vindkraft tilpasset energibehovet til gården begynner å bli et lønnsomt alternativ. Men her er regelverk og støtteordninger ikke på plass. I Time kommune. Rogaland, er det gitt dispensasjon* for å sette opp 1 stk 26 meter høy gårdsvindmølle med ytelse 25kW og årsproduksjon 70 000 – 110 000 kW årlig. *Skal behandles i Rogaland fylkeskommune.\\n  Enova gir støtte til små private vindturbiner, men er lite aktuelt for landbruk. \\n  Vindturbiner tilpasset gårdsnivå har ikke støtteordning foreløpig.\\n  Ulempene med vindkraft er ca 35% produksjon i forhold til installert effekt, samt støy og det visuelle med tanke på naboer. Ikke alle områder at netteier har kapasitet på nett, trafo o.l. til å ta imot overskuddsproduksjon.\\n  Forventet levetid 20-30 år.\\n  Prisnivå: fra kr 1,3 millioner + mva\\n  I landbruk vil luft-luft fungere dårlig pga mye støv og gasser i husdyrrom. Det gis heller ikke støtte til luft-luft eller luft-vann løsninger til næring. Noen kommuner gir nå støtte til installasjon av luft-luft varmepumpe til bolig som et ekstraordinært tiltak (sjekk med din kommune).\\n  Større luft-vann varmepumper er det rimeligste alternativet og fungerer godt langs sør- og vestlandskysten, også om vinteren. Luft-vann varmepumper kan leveres som lavtemperatur (maks 50 oC) og høytemperatur (maks 80 oC), eller som begge deler. Vedlikeholdsbehovet er lavt ved varmepumpeløsning.\\n  Prisnivå: fra kr 150 000,-\\n  Væske-vann varmepumpe kan også være en god løsning ved bruk av vannbåren varme, spesielt i områder med mye lave temperaturer i vinterhalvåret.\\n  Innovasjon Norge: det gis støtte til væske-vann varmepumper som skal levere energi til næring alene eller sammen med leveranse til boliger. Det er en forutsetting av det monteres energimåler og at eiendommen kan dokumentere avgiftspliktig omsetning.\\n  Anleggene må ha tilstrekkelig lønnsomhet etter investering. Behovet for energi må dokumenteres.\\n  Med væske-vann menes nedgravd kollektorslange i jord, kollektorslange i vann/sjø eller kollektorslange i borehull. \\n  Enova\\n  gir inntil 10 000 kr i støtte til væske-vann varmepumpe til bolig.\\n  Forventet levetid væske-vann varmepumpe 10 – 20 år. Etanol eller glykol blir mye brukt som energibærer i kollektorslange.\\n  Kollektorslange nedgravd på ca 1 meter i jord fungerer best i område uten tung trafikk, f.eks. hage.\\n  Kollektorslange i vann/sjø krever nærhet til vann/sjø. I sjø kan «groe» som isolerer kollektorslange være et problem \\n  Borehull (energibrønn) vil kunne brukes for uttak av energi i +100 år. Det mest negative med borehulls-løsning er høy investeringskostnad. Borehull er også dårlig løsning i løse grunnmasser.\\n  Prisnivå: fra kr 200 000,- + borehull\\n  Ved/flisfyr er et godt varmealternativ i områder med god tilgang på trevirke. Akkumulatortank (godt isolert stor vannbeholder) kreves for å få jevn belastning av fyren. \\n  Eksempel på løsning kan være å støpe dekke i betongsilo som er ute av bruk og dermed få brannsikkert fyrrom under. Dekket over kan brukes til vedlager eller flismagasin.\\n  Pellets fylles på i magasin og mates inn i en fyrkjel som tilpasser forbrenningen etter behovet i varmemagasinet. Pelletsfyring er en automatisert løsning som krever lite tilsyn, men noe manuell håndtering av pellets.\\n  Kjøp av pellets gir relativt høy kWh-pris\\n  Prisnivå: fra 35 000,- \\n  Varmesystem med manuelt innlegg av ved 0,5 - 2 ganger / døgn. Fyren varmer opp stort varmemagasin der varme til f.eks. bolig hentes fra. \\n  Krever mye manuell håndtering av ved til faste tider, men gir lav kWh-pris ved høy egeninnsats i vedproduksjonen.\\n  Prisnivå: fra kr 75 000,- \\n  Hele tømmerstokker tørkes og flises opp med stor flisekutter. Flis fylles på i magasin med bunnuttak. Flisen skrues inn i en fyrkjel som tilpasser forbrenningen etter behovet i varmemagasinet. Flisfyring er en automatisert løsning som krever lite tilsyn / manuell håndtering.\\n  Store flisfyringsanlegg egner seg også godt til salg av varme.\\n  Innovasjon Norge gir støtte til anlegg basert på biovarme.\\n  Enova gir ikke støtte til biovarme på landbrukseiendom\\n  Prisnivå: fra kr 300 000,-\\n  Solfanger er lite aktuelt i landbruk på våre breddegrader dersom varmebehovet ikke er stort på sommeren. Lav effekt i vinterhalvåret.\\n  Blanding av husdyrgjødsel, matavfall og annet organisk avfall pumpes inn i en tett råtnetank hvor anaerobe mikroorganismer bryter ned og produserer gasser som i hovedsak består av metan og CO2. Denne gassmiksen kaller vi biogass. Det bør være tilgang til minst 4000 m3 husdyrgjødsel i tillegg til andre substrater for å få lønnsomhet ut av et biogassanlegg.\\n  Biogassen kan brennes direkte for varmeproduksjon. I stasjonære motorer eller gassturbiner kan gassen brukes til elektrisitet- og varmeproduksjon. Ca 1/3 blir elektrisitet og ca 2/3 blir til varme.\\n  Biogassen kan også oppgraderes til ren metangass og brukes til drivstoff.\\n  Innholdet i råtnetanken etter uttak av biogass kalles for biorest, og er en homogen blanding som kan brukes som gjødsel.\\n  1 m3 biogass gir 6,2 kWh\\n  Innovasjon Norge støtter biogassprosjekt i landbruket.\\n  Prisnivå: fra kr 4 millioner .\\n'"
          },
          "metadata": {}
        }
      ],
      "execution_count": null
    },
    {
      "cell_type": "markdown",
      "source": [
        "# Chat response after receiving more context"
      ],
      "metadata": {
        "id": "5UPUqAUgV61C"
      }
    },
    {
      "cell_type": "code",
      "source": [
        "system_message = system_message + ' Du vet følgende: ' + context"
      ],
      "metadata": {
        "trusted": true,
        "execution": {
          "iopub.status.busy": "2025-01-06T19:02:06.377535Z",
          "iopub.execute_input": "2025-01-06T19:02:06.377942Z",
          "iopub.status.idle": "2025-01-06T19:02:06.387702Z",
          "shell.execute_reply.started": "2025-01-06T19:02:06.377876Z",
          "shell.execute_reply": "2025-01-06T19:02:06.386389Z"
        },
        "id": "_skPdmNnV61D"
      },
      "outputs": [],
      "execution_count": null
    },
    {
      "cell_type": "code",
      "source": [
        "question"
      ],
      "metadata": {
        "trusted": true,
        "execution": {
          "iopub.status.busy": "2025-01-06T19:02:06.389225Z",
          "iopub.execute_input": "2025-01-06T19:02:06.389573Z",
          "iopub.status.idle": "2025-01-06T19:02:06.403778Z",
          "shell.execute_reply.started": "2025-01-06T19:02:06.389546Z",
          "shell.execute_reply": "2025-01-06T19:02:06.402584Z"
        },
        "id": "1vevbv1GV61D",
        "outputId": "501f1f97-770c-48d3-9a33-cfed64053694"
      },
      "outputs": [
        {
          "execution_count": 158,
          "output_type": "execute_result",
          "data": {
            "text/plain": "'Bør bøndene vurdere bioenergi?'"
          },
          "metadata": {}
        }
      ],
      "execution_count": null
    },
    {
      "cell_type": "code",
      "source": [
        "response = client.chat.completions.create(\n",
        "    model = 'gpt-4o-mini',\n",
        "    messages = [\n",
        "        {\n",
        "            'role': 'system',\n",
        "            'content': system_message\n",
        "        },\n",
        "        {'role': 'user', 'content': question}\n",
        "    ]\n",
        ")"
      ],
      "metadata": {
        "trusted": true,
        "id": "YODObovkV61D"
      },
      "outputs": [],
      "execution_count": null
    },
    {
      "cell_type": "code",
      "source": [
        "response.choices[0].message.content"
      ],
      "metadata": {
        "trusted": true,
        "execution": {
          "iopub.status.busy": "2025-01-06T19:02:14.631263Z",
          "iopub.execute_input": "2025-01-06T19:02:14.631595Z",
          "iopub.status.idle": "2025-01-06T19:02:14.638806Z",
          "shell.execute_reply.started": "2025-01-06T19:02:14.631566Z",
          "shell.execute_reply": "2025-01-06T19:02:14.637547Z"
        },
        "id": "biYDiXAEV61D",
        "outputId": "70c634fd-7777-45e7-cc74-b8476f4dce50"
      },
      "outputs": [
        {
          "execution_count": 160,
          "output_type": "execute_result",
          "data": {
            "text/plain": "'Ja, bønder bør absolutt vurdere bioenergi som et alternativ for å produsere egen energi. Det er flere gode grunner til dette:\\n\\n1. **Kostnadsbesparelser**: Ved å bruke bioenergi kan bønder redusere energikostnadene betydelig, spesielt i tider med høye strømpriser. Biovarme kan være mye rimeligere sammenlignet med vanlige energikilder.\\n\\n2. **Selvforsyning**: Bioenergi gir bønder muligheten til å bli mer selvforsynte når det gjelder energi. Dette er spesielt nyttig i landbruket, hvor man kan utnytte ressurser som trevirke fra egen skog eller husdyrgjødsel til energiproduksjon.\\n\\n3. **Miljøfordeler**: Bruken av bioenergi er en CO2-nøytral løsning, da plantene som brukes til biomasse tar opp CO2 under veksten. Dette bidrar til å redusere klimagassutslippene.\\n\\n4. **Energiproduksjon og -salg**: Bønder kan ikke bare bruke bioenergi til eget forbruk, men også produsere energi for salg. Dette kan skape en ny inntektskilde for gården.\\n\\n5. **Støtteordninger**: Det er flere støtteordninger tilgjengelige fra Innovasjon Norge og Enova for investeringer i bioenergi, noe som kan redusere den økonomiske belastningen ved initial investering.\\n\\n6. **Helhetlig ressursutnyttelse**: Gjennom prosjekter som biogassanlegg kan bønder utnytte avfallsmaterialer fra husdyrhold og matproduksjon til å generere energi og gjødsel, noe som gir en bærekraftig lukke av kretsløpet på gården.\\n\\n7. **Fleksibilitet i energikilder**: Bioenergi kan kombineres med andre fornybare energikilder som solcelleanlegg, noe som kan gi en mer stabil energiforsyning gjennom året.\\n\\nAlt i alt kan bioenergi bidra til å gjøre landbruket mer bærekraftig, lønnsomt og selvforsynt. Det kan derfor være lurt for bøndene å vurdere mulighetene for bioenergi på deres egne gårder.'"
          },
          "metadata": {}
        }
      ],
      "execution_count": null
    }
  ]
}