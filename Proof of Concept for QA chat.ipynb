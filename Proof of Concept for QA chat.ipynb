{
  "metadata": {
    "kernelspec": {
      "language": "python",
      "display_name": "Python 3",
      "name": "python3"
    },
    "language_info": {
      "name": "python",
      "version": "3.11.13",
      "mimetype": "text/x-python",
      "codemirror_mode": {
        "name": "ipython",
        "version": 3
      },
      "pygments_lexer": "ipython3",
      "nbconvert_exporter": "python",
      "file_extension": ".py"
    },
    "kaggle": {
      "accelerator": "none",
      "dataSources": [
        {
          "sourceId": 9037685,
          "sourceType": "datasetVersion",
          "datasetId": 5448044,
          "isSourceIdPinned": false
        }
      ],
      "dockerImageVersionId": 31089,
      "isInternetEnabled": true,
      "language": "python",
      "sourceType": "notebook",
      "isGpuEnabled": false
    },
    "colab": {
      "name": "Proof of Concept with PDF & NotebookLM",
      "provenance": []
    }
  },
  "nbformat_minor": 0,
  "nbformat": 4,
  "cells": [
    {
      "cell_type": "markdown",
      "source": [
        "<img src=\"https://notebooklm.google.com/_/static/branding/v5/light_mode/notebook-logo.svg\" alt=\"image\" width=\"30%\">"
      ],
      "metadata": {
        "id": "1stw-FSsrd42"
      }
    },
    {
      "cell_type": "markdown",
      "source": [
        "#Augument NotebookLM with data about Norwegian Agriculture"
      ],
      "metadata": {
        "id": "2LL9iW_-rd5Q"
      }
    },
    {
      "cell_type": "markdown",
      "source": [
        "We retrieve [data about Norwegian agriculture](https://www.sciencedirect.com/science/article/pii/S2352340925000587) and convert it into PDF files of suitable size to use with NotebookLM. Then we add the files into NotebookLM so you can test it - ask questions about Norwegian agriculture"
      ],
      "metadata": {
        "id": "GJwndp1pVzWo"
      }
    },
    {
      "cell_type": "markdown",
      "source": [
        "<div style=\"display: flex; justify-content: space-between; align-items: flex-start;\">\n",
        "    <div style=\"text-align: left;\">\n",
        "        <p style=\"color:#FFD700; font-size: 15px; font-weight: bold; margin-bottom: 1px; text-align: left;\">Published on  September 16, 2025</p>\n",
        "        <h4 style=\"color:#4B0082; font-weight: bold; text-align: left; margin-top: 6px;\">Author: Olena Bugaiova</h4>\n",
        "        <p style=\"font-size: 17px; line-height: 1.7; color: #333; text-align: center; margin-top: 20px;\"></p>\n",
        "        <a href=\"https://www.linkedin.com/in/olenabugaiova/\" target=\"_blank\" style=\"display: inline-block; background-color: #003f88; color: #fff; text-decoration: none; padding: 5px 10px; border-radius: 10px; margin: 15px;\">LinkedIn</a>\n",
        "        <a href=\"https://github.com/OlenaBugaiova\" target=\"_blank\" style=\"display: inline-block; background-color: transparent; color: #059c99; text-decoration: none; padding: 5px 10px; border-radius: 10px; margin: 15px; border: 2px solid #007bff;\">GitHub</a>\n",
        "        <a href=\"https://leetcode.com/u/olenabugaiova/\" target=\"_blank\" style=\"display: inline-block; background-color: #ff0054; color: #fff; text-decoration: none; padding: 5px 10px; border-radius: 10px; margin: 15px;\">LeetCode</a>\n",
        "        <a href=\"https://www.kaggle.com/bugaiovaolena\" target=\"_blank\" style=\"display: inline-block; background-color: #3a86ff; color: #fff; text-decoration: none; padding: 5px 10px; border-radius: 10px; margin: 15px;\">Kaggle</a>\n",
        "    </div>\n",
        "</div>"
      ],
      "metadata": {
        "id": "uqLg-Dr1rd43"
      }
    },
    {
      "cell_type": "markdown",
      "source": [
        "# <p style=\"padding:15px;background-color:#fef88c;font-family:newtimeroman;font-size:100%;text-align:center;border-radius:3px;font-weight:200;border: 1px outset #77a528;\">Import Libraries</p>"
      ],
      "metadata": {
        "id": "-OdW3MsPrd44"
      }
    },
    {
      "source": [
        "import kagglehub\n",
        "bugaiovaolena_about_agriculture_in_norwegian_language_path = kagglehub.dataset_download('bugaiovaolena/about-agriculture-in-norwegian-language')\n",
        "\n",
        "print('Data source import complete.')\n"
      ],
      "metadata": {
        "colab": {
          "base_uri": "https://localhost:8080/"
        },
        "id": "exl_kj5grd40",
        "outputId": "bc833450-0bed-4338-efa7-6915013fa31b"
      },
      "cell_type": "code",
      "outputs": [
        {
          "output_type": "stream",
          "name": "stdout",
          "text": [
            "Using Colab cache for faster access to the 'about-agriculture-in-norwegian-language' dataset.\n",
            "Data source import complete.\n"
          ]
        }
      ],
      "execution_count": 25
    },
    {
      "cell_type": "code",
      "source": [
        "pip install reportlab"
      ],
      "metadata": {
        "trusted": true,
        "execution": {
          "iopub.status.busy": "2025-09-16T13:11:13.53592Z",
          "iopub.execute_input": "2025-09-16T13:11:13.536281Z",
          "iopub.status.idle": "2025-09-16T13:11:17.475029Z",
          "shell.execute_reply.started": "2025-09-16T13:11:13.536259Z",
          "shell.execute_reply": "2025-09-16T13:11:17.473237Z"
        },
        "_kg_hide-output": true,
        "_kg_hide-input": true,
        "colab": {
          "base_uri": "https://localhost:8080/"
        },
        "id": "EeqIwy3trd45",
        "outputId": "e3d443ed-6212-4023-9310-b323ef081067"
      },
      "outputs": [
        {
          "output_type": "stream",
          "name": "stdout",
          "text": [
            "Requirement already satisfied: reportlab in /usr/local/lib/python3.12/dist-packages (4.4.4)\n",
            "Requirement already satisfied: pillow>=9.0.0 in /usr/local/lib/python3.12/dist-packages (from reportlab) (11.3.0)\n",
            "Requirement already satisfied: charset-normalizer in /usr/local/lib/python3.12/dist-packages (from reportlab) (3.4.3)\n"
          ]
        }
      ],
      "execution_count": 26
    },
    {
      "cell_type": "code",
      "source": [
        "import json\n",
        "import kagglehub\n",
        "from IPython.display import FileLink\n",
        "from typing import Callable\n",
        "\n",
        "from reportlab.lib.pagesizes import letter\n",
        "from reportlab.platypus import SimpleDocTemplate, Paragraph, PageBreak\n",
        "from reportlab.lib.styles import getSampleStyleSheet, StyleSheet1\n",
        "from reportlab.lib.units import inch\n",
        "\n",
        "import warnings\n",
        "warnings.filterwarnings(\"ignore\")"
      ],
      "metadata": {
        "trusted": true,
        "execution": {
          "iopub.status.busy": "2025-09-16T13:11:17.477769Z",
          "iopub.execute_input": "2025-09-16T13:11:17.478157Z",
          "iopub.status.idle": "2025-09-16T13:11:17.485929Z",
          "shell.execute_reply.started": "2025-09-16T13:11:17.478109Z",
          "shell.execute_reply": "2025-09-16T13:11:17.484857Z"
        },
        "id": "FnqN1NWyrd45"
      },
      "outputs": [],
      "execution_count": 27
    },
    {
      "cell_type": "markdown",
      "source": [
        "# <p style=\"padding:15px;background-color:#fef88c;font-family:newtimeroman;font-size:100%;text-align:center;border-radius:3px;font-weight:200;border: 1px outset #77a528;\">Load Data</p>"
      ],
      "metadata": {
        "id": "gZbWaB3nrd46"
      }
    },
    {
      "cell_type": "code",
      "source": [
        "DIRECTORY_NAME = 'bugaiovaolena/about-agriculture-in-norwegian-language'"
      ],
      "metadata": {
        "trusted": true,
        "execution": {
          "iopub.status.busy": "2025-09-16T13:11:17.487471Z",
          "iopub.execute_input": "2025-09-16T13:11:17.488418Z",
          "iopub.status.idle": "2025-09-16T13:11:17.527343Z",
          "shell.execute_reply.started": "2025-09-16T13:11:17.48838Z",
          "shell.execute_reply": "2025-09-16T13:11:17.526183Z"
        },
        "id": "vY3Bp_Sard48"
      },
      "outputs": [],
      "execution_count": 28
    },
    {
      "cell_type": "code",
      "source": [
        "NIBIO_FILE_NAME = 'nibio_text_data.json'\n",
        "PLANTEVERNLEKSIKONET_FILE_NAME = 'plantevernleksikonet_text_data.json'\n",
        "NLR_FILE_NAME = 'nlr_text_data.json'"
      ],
      "metadata": {
        "trusted": true,
        "execution": {
          "iopub.status.busy": "2025-09-16T13:11:17.529885Z",
          "iopub.execute_input": "2025-09-16T13:11:17.531235Z",
          "iopub.status.idle": "2025-09-16T13:11:17.556285Z",
          "shell.execute_reply.started": "2025-09-16T13:11:17.531191Z",
          "shell.execute_reply": "2025-09-16T13:11:17.555169Z"
        },
        "id": "IWrKMAsKrd49"
      },
      "outputs": [],
      "execution_count": 29
    },
    {
      "cell_type": "code",
      "source": [
        "NLR_URLS_FILE_NAME = 'nlr urls.json'"
      ],
      "metadata": {
        "trusted": true,
        "execution": {
          "iopub.status.busy": "2025-09-16T13:11:17.557574Z",
          "iopub.execute_input": "2025-09-16T13:11:17.557925Z",
          "iopub.status.idle": "2025-09-16T13:11:17.586343Z",
          "shell.execute_reply.started": "2025-09-16T13:11:17.557899Z",
          "shell.execute_reply": "2025-09-16T13:11:17.585176Z"
        },
        "id": "hweeuoDLrd49"
      },
      "outputs": [],
      "execution_count": 30
    },
    {
      "cell_type": "markdown",
      "source": [
        "Load text from the agricultural-related websites"
      ],
      "metadata": {
        "id": "bIAYiJofrd49"
      }
    },
    {
      "cell_type": "code",
      "source": [
        "def load_json_file_content(file_name):\n",
        "\n",
        "    file_path = kagglehub.dataset_download(DIRECTORY_NAME, path = file_name)\n",
        "    with open(file_path, 'r') as file_name:\n",
        "        text_file_content_json = json.load(file_name)\n",
        "\n",
        "    return text_file_content_json"
      ],
      "metadata": {
        "trusted": true,
        "execution": {
          "iopub.status.busy": "2025-09-16T13:11:17.58718Z",
          "iopub.execute_input": "2025-09-16T13:11:17.587535Z",
          "iopub.status.idle": "2025-09-16T13:11:17.608653Z",
          "shell.execute_reply.started": "2025-09-16T13:11:17.587486Z",
          "shell.execute_reply": "2025-09-16T13:11:17.607667Z"
        },
        "id": "5CFO-FpCrd4_"
      },
      "outputs": [],
      "execution_count": 31
    },
    {
      "cell_type": "code",
      "source": [
        "nibio_text_file_content_json = load_json_file_content(NIBIO_FILE_NAME)\n",
        "plantevernleksikonet_text_file_content_json = load_json_file_content(PLANTEVERNLEKSIKONET_FILE_NAME)\n",
        "nlr_text_file_content_json = load_json_file_content(NLR_FILE_NAME)\n",
        "\n",
        "nlr_urls_file_content_json = load_json_file_content(NLR_URLS_FILE_NAME)"
      ],
      "metadata": {
        "trusted": true,
        "execution": {
          "iopub.status.busy": "2025-09-16T13:11:17.609955Z",
          "iopub.execute_input": "2025-09-16T13:11:17.610349Z",
          "iopub.status.idle": "2025-09-16T13:11:17.997954Z",
          "shell.execute_reply.started": "2025-09-16T13:11:17.610316Z",
          "shell.execute_reply": "2025-09-16T13:11:17.997052Z"
        },
        "colab": {
          "base_uri": "https://localhost:8080/"
        },
        "id": "GRhUW3VVrd5C",
        "outputId": "acf31171-4fa1-4d73-de16-cac467de108a"
      },
      "outputs": [
        {
          "output_type": "stream",
          "name": "stdout",
          "text": [
            "Using Colab cache for faster access to the 'about-agriculture-in-norwegian-language' dataset.\n",
            "Using Colab cache for faster access to the 'about-agriculture-in-norwegian-language' dataset.\n",
            "Using Colab cache for faster access to the 'about-agriculture-in-norwegian-language' dataset.\n",
            "Using Colab cache for faster access to the 'about-agriculture-in-norwegian-language' dataset.\n"
          ]
        }
      ],
      "execution_count": 32
    },
    {
      "cell_type": "markdown",
      "source": [
        "# <p style=\"padding:15px;background-color:#fef88c;font-family:newtimeroman;font-size:100%;text-align:center;border-radius:3px;font-weight:200;border: 1px outset #77a528;\">Create PDF files</p>"
      ],
      "metadata": {
        "id": "rBiov9YNrd5D"
      }
    },
    {
      "cell_type": "markdown",
      "source": [
        "We generate PDF files from our text data for adding them to NotebookLM later"
      ],
      "metadata": {
        "id": "b8V7EIx0rd5E"
      }
    },
    {
      "cell_type": "code",
      "source": [
        "Content_Generating_Callable = Callable[[list, list, StyleSheet1], [list, list]]\n",
        "\n",
        "def create_pdf_file(output_file_name: str, sections: list, content_generating_function: Content_Generating_Callable):\n",
        "\n",
        "    doc = SimpleDocTemplate(output_file_name, pagesize=letter)\n",
        "    styles = getSampleStyleSheet()\n",
        "\n",
        "    table_of_contents = []\n",
        "    table_of_contents.append(Paragraph('Table of Contents<br/><br/>', styles['h1']))\n",
        "    table_of_contents, contents = content_generating_function(sections, table_of_contents, styles)\n",
        "\n",
        "    story = table_of_contents\n",
        "    story.append(PageBreak())\n",
        "    story.extend(contents)\n",
        "\n",
        "    doc.build(story)\n",
        "    print(output_file_name, 'generated successfully')"
      ],
      "metadata": {
        "trusted": true,
        "execution": {
          "iopub.status.busy": "2025-09-16T13:11:17.99922Z",
          "iopub.execute_input": "2025-09-16T13:11:17.999544Z",
          "iopub.status.idle": "2025-09-16T13:11:18.006816Z",
          "shell.execute_reply.started": "2025-09-16T13:11:17.99952Z",
          "shell.execute_reply": "2025-09-16T13:11:18.005836Z"
        },
        "id": "NZlbNvsCrd5E"
      },
      "outputs": [],
      "execution_count": 33
    },
    {
      "cell_type": "markdown",
      "source": [
        "**Create NIBIO PDF file**\n",
        "\n",
        "\n",
        "> Text data, collected from Nibio.no, has the following hierarchical structure:\n",
        ">\n",
        "> [{\"title\": title of an article, \"text\": content of an article, \"children\": [a list of more narrow articles under this title with the same structure as above]}]"
      ],
      "metadata": {
        "id": "NCWY0ztfrd5F"
      }
    },
    {
      "cell_type": "code",
      "source": [
        "def add_nibio_file_content(sections: list, table_of_contents: list, styles: StyleSheet1) -> (list, list):\n",
        "\n",
        "    toc_header_level = 0\n",
        "    contents = []\n",
        "    def prepare_sections_for_print(sections: list, toc_header_level: int, including_sections_numbers: str):\n",
        "\n",
        "        toc_header_level += 1\n",
        "        section_nummer = 1\n",
        "\n",
        "        while len(sections) > 0:\n",
        "\n",
        "            section = sections.pop(0)\n",
        "\n",
        "            title = section['title']\n",
        "            article = section['text']\n",
        "\n",
        "            toc_paragraph_style = styles['h' + str(toc_header_level)]\n",
        "            toc_paragraph_style.leftIndent = 0.5 * toc_header_level * inch\n",
        "            toc_title = including_sections_numbers + str(section_nummer) + '. ' + title\n",
        "            table_of_contents.append(Paragraph(toc_title, toc_paragraph_style))\n",
        "\n",
        "            contents.append(Paragraph(toc_title, styles['h1']))\n",
        "            contents.append(Paragraph('<br/>', styles['h1']))\n",
        "\n",
        "            for paragraph in article.split('\\n '):\n",
        "                contents.append(Paragraph(paragraph, styles['Normal']))\n",
        "\n",
        "            contents.append(Paragraph('<br/><br/>', styles['h1']))\n",
        "\n",
        "            if 'children' in section:\n",
        "                contents.append(PageBreak())\n",
        "                including_sections_numbers_next_level = including_sections_numbers + str(section_nummer) + '. '\n",
        "                prepare_sections_for_print(section['children'], toc_header_level, including_sections_numbers_next_level)\n",
        "\n",
        "            section_nummer += 1\n",
        "\n",
        "    prepare_sections_for_print(sections, toc_header_level, '')\n",
        "\n",
        "    return table_of_contents, contents"
      ],
      "metadata": {
        "trusted": true,
        "execution": {
          "iopub.status.busy": "2025-09-16T13:11:18.00782Z",
          "iopub.execute_input": "2025-09-16T13:11:18.008061Z",
          "iopub.status.idle": "2025-09-16T13:11:18.031374Z",
          "shell.execute_reply.started": "2025-09-16T13:11:18.008041Z",
          "shell.execute_reply": "2025-09-16T13:11:18.030426Z"
        },
        "id": "QkuhmE82rd5F"
      },
      "outputs": [],
      "execution_count": 34
    },
    {
      "cell_type": "markdown",
      "source": [
        "**Create NLR PDF file**\n",
        "\n",
        "\n",
        "> Text data, collected from nlr.no, has the following structure:{title: content of an article}\n",
        "\n",
        "\n",
        "\n",
        "> nlr_urls_file is the file for web scraping text data from nlr.no. It helps to create URLs in the following form: https://www.nlr.no/fagartikler/kategori/region/title. It has the following structure: { url prefix: [corresponding titles]}. URL prefix contains information about each category and region encoded in the format: https://www.nlr.no/fagartikler/kategori/region. Corresponding titles is a set of titles under a selected category and region."
      ],
      "metadata": {
        "id": "CTt5xgUGrd5I"
      }
    },
    {
      "cell_type": "code",
      "source": [
        "URL_PREFIX = 'https://www.nlr.no/fagartikler/'\n",
        "nlr_topic_regions_map = {}\n",
        "\n",
        "for url, _ in nlr_urls_file_content_json.items():\n",
        "\n",
        "    url_parts = url.split('/')\n",
        "\n",
        "    topic = url_parts[-2]\n",
        "    region = url_parts[-1]\n",
        "\n",
        "    if topic not in nlr_topic_regions_map:\n",
        "        nlr_topic_regions_map[topic] = []\n",
        "\n",
        "    nlr_topic_regions_map[topic].append(region)"
      ],
      "metadata": {
        "trusted": true,
        "execution": {
          "iopub.status.busy": "2025-09-16T13:11:18.035005Z",
          "iopub.execute_input": "2025-09-16T13:11:18.035365Z",
          "iopub.status.idle": "2025-09-16T13:11:18.058911Z",
          "shell.execute_reply.started": "2025-09-16T13:11:18.035337Z",
          "shell.execute_reply": "2025-09-16T13:11:18.057606Z"
        },
        "id": "XZvGJq0qrd5I"
      },
      "outputs": [],
      "execution_count": 35
    },
    {
      "cell_type": "code",
      "source": [
        "def add_nlr_file_content(topics: list, table_of_contents: list, styles: StyleSheet1) -> (list, list):\n",
        "\n",
        "    contents = []\n",
        "    topic_count = 1\n",
        "\n",
        "    for topic in topics:\n",
        "\n",
        "        # adding topic\n",
        "        toc_paragraph_style = styles['h2']\n",
        "        toc_paragraph_style.leftIndent = 0\n",
        "\n",
        "        toc_title_topic = str(topic_count) + '. ' + topic.capitalize()\n",
        "        table_of_contents.append(Paragraph(toc_title_topic, toc_paragraph_style))\n",
        "        contents.append(Paragraph(toc_title_topic, styles['h1']))\n",
        "\n",
        "        regions = nlr_topic_regions_map[topic]\n",
        "        region_count = 1\n",
        "\n",
        "        for region in regions:\n",
        "\n",
        "            # adding region\n",
        "            toc_paragraph_style = styles['h3']\n",
        "            toc_paragraph_style.leftIndent = 0.5 * inch\n",
        "\n",
        "            toc_title_region = str(topic_count) + '. ' + str(region_count) + '. ' + region.capitalize()\n",
        "            table_of_contents.append(Paragraph(toc_title_region, toc_paragraph_style))\n",
        "            contents.append(Paragraph(toc_title_region, styles['h1']))\n",
        "\n",
        "            url = URL_PREFIX + topic + '/' + region\n",
        "            titles = nlr_urls_file_content_json[url]\n",
        "            title_count = 1\n",
        "\n",
        "            for title in titles:\n",
        "\n",
        "                # adding title\n",
        "                if title and title in nlr_text_file_content_json and title != 'Økologisk sortsprøvning':\n",
        "\n",
        "                    toc_paragraph_style = styles['h4']\n",
        "                    toc_paragraph_style.leftIndent = 1.0 * inch\n",
        "\n",
        "                    toc_title_count = str(topic_count) + '. ' + str(region_count) + '. ' + str(title_count) + '. '\n",
        "                    toc_title = toc_title_count + title.lower().capitalize()\n",
        "                    table_of_contents.append(Paragraph(toc_title, toc_paragraph_style))\n",
        "\n",
        "                    contents.append(Paragraph(toc_title, styles['h2']))\n",
        "                    contents.append(Paragraph('<br/>', styles['h1']))\n",
        "\n",
        "                    # adding article\n",
        "                    article = nlr_text_file_content_json[title]\n",
        "\n",
        "                    for paragraph in article.split('\\n '):\n",
        "                        contents.append(Paragraph(paragraph, styles['Normal']))\n",
        "\n",
        "                    contents.append(Paragraph('<br/><br/>', styles['h1']))\n",
        "                    title_count += 1\n",
        "            region_count += 1\n",
        "        topic_count += 1\n",
        "\n",
        "    return table_of_contents, contents"
      ],
      "metadata": {
        "trusted": true,
        "execution": {
          "iopub.status.busy": "2025-09-16T13:11:18.060144Z",
          "iopub.execute_input": "2025-09-16T13:11:18.060549Z",
          "iopub.status.idle": "2025-09-16T13:11:18.086338Z",
          "shell.execute_reply.started": "2025-09-16T13:11:18.060516Z",
          "shell.execute_reply": "2025-09-16T13:11:18.084885Z"
        },
        "id": "2gEOrwszrd5J"
      },
      "outputs": [],
      "execution_count": 36
    },
    {
      "cell_type": "markdown",
      "source": [
        "**Create plantevernleksikonet PDF file**\n",
        "\n",
        "\n",
        "> Text data, collected from Plantevernleksikonet.no, has the following structure:\n",
        ">\n",
        "> {title: {\"page_number\": number in a URL of an article, \"headers\": a Latin name and a group found under the title of an article, \"summary\": a brief description of an article that can be found at the top of a webpage, \"content\": the main text of an article} }\n",
        ">\n",
        "> where the URL of an article is in the following form https://www.plantevernleksikonet.no/l/oppslag/page_number/\n"
      ],
      "metadata": {
        "id": "HaqGadzWrd5K"
      }
    },
    {
      "cell_type": "code",
      "source": [
        "def add_plantevernleksikonet_file_content(sections: list, table_of_contents: list, styles: StyleSheet1) -> (list, list):\n",
        "\n",
        "    contents = []\n",
        "    title_count = 1\n",
        "\n",
        "    for title in sections:\n",
        "\n",
        "        if title:\n",
        "            article_info = plantevernleksikonet_text_file_content_json[title]\n",
        "\n",
        "            latin_name_and_group = article_info['headers']\n",
        "            latin_name, _, group = latin_name_and_group.rpartition(' ')\n",
        "            article = article_info['summary'] + '\\n' + article_info['content']\n",
        "\n",
        "            # adding title\n",
        "            toc_paragraph_style = styles['h3']\n",
        "            toc_paragraph_style.leftIndent = 0\n",
        "\n",
        "            toc_title = str(title_count) + '. ' + title.lower().capitalize() + ' (' + group.lower().capitalize() + ')'\n",
        "            contents_title = str(title_count) + '. ' + title.lower().capitalize()\n",
        "\n",
        "            table_of_contents.append(Paragraph(toc_title, toc_paragraph_style))\n",
        "            contents.append(Paragraph(contents_title, styles['h1']))\n",
        "\n",
        "            # adding headers\n",
        "            contents.append(Paragraph(latin_name, styles['h2']))\n",
        "            contents.append(Paragraph(group.lower().capitalize(), styles['h3']))\n",
        "            contents.append(Paragraph('<br/>', styles['h3']))\n",
        "\n",
        "            # adding article\n",
        "            for paragraph in article.split('\\n '):\n",
        "                contents.append(Paragraph(paragraph, styles['Normal']))\n",
        "\n",
        "            contents.append(Paragraph('<br/><br/>', styles['h1']))\n",
        "            title_count += 1\n",
        "\n",
        "    return table_of_contents, contents"
      ],
      "metadata": {
        "trusted": true,
        "execution": {
          "iopub.status.busy": "2025-09-16T13:11:18.08782Z",
          "iopub.execute_input": "2025-09-16T13:11:18.088173Z",
          "iopub.status.idle": "2025-09-16T13:11:18.116629Z",
          "shell.execute_reply.started": "2025-09-16T13:11:18.088148Z",
          "shell.execute_reply": "2025-09-16T13:11:18.115572Z"
        },
        "id": "c-WJmhPVrd5K"
      },
      "outputs": [],
      "execution_count": 37
    },
    {
      "cell_type": "markdown",
      "source": [
        "Generate PDF files"
      ],
      "metadata": {
        "id": "JmgaO85wrd5K"
      }
    },
    {
      "cell_type": "code",
      "source": [
        "output_files_info_with_partitioning_per_website = {\n",
        "    'NIBIO': {\n",
        "        'sections': nibio_text_file_content_json.copy(), 'partitioning': [3]\n",
        "    },\n",
        "    'NLR': {\n",
        "        'sections': list(nlr_topic_regions_map.keys()), 'partitioning': [4, 10]\n",
        "    },\n",
        "    'Plantevernleksikonet': {\n",
        "        'sections': list(plantevernleksikonet_text_file_content_json.keys()), 'partitioning': [225, 544, 850]\n",
        "    }\n",
        "}\n",
        "\n",
        "content_generating_functions = {\n",
        "    'NIBIO': add_nibio_file_content,\n",
        "    'NLR': add_nlr_file_content,\n",
        "    'Plantevernleksikonet': add_plantevernleksikonet_file_content\n",
        "}"
      ],
      "metadata": {
        "trusted": true,
        "execution": {
          "iopub.status.busy": "2025-09-16T13:11:18.117677Z",
          "iopub.execute_input": "2025-09-16T13:11:18.117987Z",
          "iopub.status.idle": "2025-09-16T13:11:18.141368Z",
          "shell.execute_reply.started": "2025-09-16T13:11:18.117953Z",
          "shell.execute_reply": "2025-09-16T13:11:18.139785Z"
        },
        "id": "2W-OktbZrd5K"
      },
      "outputs": [],
      "execution_count": 38
    },
    {
      "cell_type": "code",
      "source": [
        "output_files = []\n",
        "for website_name, files_info in output_files_info_with_partitioning_per_website.items():\n",
        "\n",
        "    output_file_name = website_name\n",
        "    content_generating_function = content_generating_functions[output_file_name]\n",
        "\n",
        "    sections = files_info['sections']\n",
        "    files_info['partitioning'].append(len(sections))\n",
        "\n",
        "    partition_start = 0\n",
        "    for i, partition_end in enumerate(files_info['partitioning']):\n",
        "\n",
        "        partition_file_name = output_file_name + str(i + 1) + '.pdf'\n",
        "        create_pdf_file(\n",
        "            partition_file_name, sections[partition_start: partition_end], content_generating_function\n",
        "        )\n",
        "\n",
        "        output_files.append(partition_file_name)\n",
        "        partition_start = partition_end"
      ],
      "metadata": {
        "trusted": true,
        "execution": {
          "iopub.status.busy": "2025-09-16T13:11:18.142556Z",
          "iopub.execute_input": "2025-09-16T13:11:18.142827Z",
          "iopub.status.idle": "2025-09-16T13:11:35.033452Z",
          "shell.execute_reply.started": "2025-09-16T13:11:18.142804Z",
          "shell.execute_reply": "2025-09-16T13:11:35.032464Z"
        },
        "colab": {
          "base_uri": "https://localhost:8080/"
        },
        "id": "vgPrASBzrd5K",
        "outputId": "0b9fcb22-3321-469e-93c0-f88fbf8a9219"
      },
      "outputs": [
        {
          "output_type": "stream",
          "name": "stdout",
          "text": [
            "NIBIO1.pdf generated successfully\n",
            "NIBIO2.pdf generated successfully\n",
            "NLR1.pdf generated successfully\n",
            "NLR2.pdf generated successfully\n",
            "NLR3.pdf generated successfully\n",
            "Plantevernleksikonet1.pdf generated successfully\n",
            "Plantevernleksikonet2.pdf generated successfully\n",
            "Plantevernleksikonet3.pdf generated successfully\n",
            "Plantevernleksikonet4.pdf generated successfully\n"
          ]
        }
      ],
      "execution_count": 39
    },
    {
      "cell_type": "markdown",
      "source": [
        "We have added these files to the NotebookLM, and it is now available for [chatting about Norwegian agriculture in the Norwegian language](https://notebooklm.google.com/notebook/ac22921f-e4a1-4444-88b4-49ab23c9d387)."
      ],
      "metadata": {
        "id": "8C5nUvTfrd5Q"
      }
    }
  ]
}